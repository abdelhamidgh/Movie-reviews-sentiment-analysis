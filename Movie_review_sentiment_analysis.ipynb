{
  "nbformat": 4,
  "nbformat_minor": 0,
  "metadata": {
    "colab": {
      "provenance": [],
      "toc_visible": true
    },
    "kernelspec": {
      "name": "python3",
      "display_name": "Python 3"
    },
    "language_info": {
      "name": "python"
    }
  },
  "cells": [
    {
      "cell_type": "code",
      "execution_count": 3,
      "metadata": {
        "id": "rw2fGhy-_JMh",
        "colab": {
          "base_uri": "https://localhost:8080/"
        },
        "outputId": "e1743c8e-c6f3-4d12-dfb8-8042d441ddc0"
      },
      "outputs": [
        {
          "output_type": "stream",
          "name": "stdout",
          "text": [
            "Drive already mounted at /content/drive; to attempt to forcibly remount, call drive.mount(\"/content/drive\", force_remount=True).\n"
          ]
        }
      ],
      "source": [
        "from google.colab import drive\n",
        "drive.mount('/content/drive')"
      ]
    },
    {
      "cell_type": "code",
      "source": [
        "# seting the working directory\n",
        "%cd /content/drive/MyDrive/Sentiment_Analysis_Project\n",
        "!ls"
      ],
      "metadata": {
        "id": "81e1iNrPEDfg",
        "colab": {
          "base_uri": "https://localhost:8080/"
        },
        "outputId": "ae5bbcce-77f5-4491-821a-cf46baac1d91"
      },
      "execution_count": 4,
      "outputs": [
        {
          "output_type": "stream",
          "name": "stdout",
          "text": [
            "/content/drive/MyDrive/Sentiment_Analysis_Project\n",
            "a1_IMDB_Dataset.csv\t    a4_LSTM_Predictions.csv\n",
            "a2_glove.6B.100d.txt\t    c1_lstm_model_acc_0.864.h5\n",
            "a3_IMDb_Unseen_Reviews.csv  Movie_review_sentiment_analysis.ipynb\n"
          ]
        }
      ]
    },
    {
      "cell_type": "code",
      "source": [
        "!pip install tensorflow"
      ],
      "metadata": {
        "id": "DaRHsNmTH8Jv",
        "colab": {
          "base_uri": "https://localhost:8080/"
        },
        "outputId": "a385a02d-4c2b-4408-e929-3181bc4b4113"
      },
      "execution_count": 5,
      "outputs": [
        {
          "output_type": "stream",
          "name": "stdout",
          "text": [
            "Requirement already satisfied: tensorflow in /usr/local/lib/python3.11/dist-packages (2.19.0)\n",
            "Requirement already satisfied: absl-py>=1.0.0 in /usr/local/lib/python3.11/dist-packages (from tensorflow) (1.4.0)\n",
            "Requirement already satisfied: astunparse>=1.6.0 in /usr/local/lib/python3.11/dist-packages (from tensorflow) (1.6.3)\n",
            "Requirement already satisfied: flatbuffers>=24.3.25 in /usr/local/lib/python3.11/dist-packages (from tensorflow) (25.2.10)\n",
            "Requirement already satisfied: gast!=0.5.0,!=0.5.1,!=0.5.2,>=0.2.1 in /usr/local/lib/python3.11/dist-packages (from tensorflow) (0.6.0)\n",
            "Requirement already satisfied: google-pasta>=0.1.1 in /usr/local/lib/python3.11/dist-packages (from tensorflow) (0.2.0)\n",
            "Requirement already satisfied: libclang>=13.0.0 in /usr/local/lib/python3.11/dist-packages (from tensorflow) (18.1.1)\n",
            "Requirement already satisfied: opt-einsum>=2.3.2 in /usr/local/lib/python3.11/dist-packages (from tensorflow) (3.4.0)\n",
            "Requirement already satisfied: packaging in /usr/local/lib/python3.11/dist-packages (from tensorflow) (25.0)\n",
            "Requirement already satisfied: protobuf!=4.21.0,!=4.21.1,!=4.21.2,!=4.21.3,!=4.21.4,!=4.21.5,<6.0.0dev,>=3.20.3 in /usr/local/lib/python3.11/dist-packages (from tensorflow) (5.29.5)\n",
            "Requirement already satisfied: requests<3,>=2.21.0 in /usr/local/lib/python3.11/dist-packages (from tensorflow) (2.32.3)\n",
            "Requirement already satisfied: setuptools in /usr/local/lib/python3.11/dist-packages (from tensorflow) (75.2.0)\n",
            "Requirement already satisfied: six>=1.12.0 in /usr/local/lib/python3.11/dist-packages (from tensorflow) (1.17.0)\n",
            "Requirement already satisfied: termcolor>=1.1.0 in /usr/local/lib/python3.11/dist-packages (from tensorflow) (3.1.0)\n",
            "Requirement already satisfied: typing-extensions>=3.6.6 in /usr/local/lib/python3.11/dist-packages (from tensorflow) (4.14.1)\n",
            "Requirement already satisfied: wrapt>=1.11.0 in /usr/local/lib/python3.11/dist-packages (from tensorflow) (1.17.2)\n",
            "Requirement already satisfied: grpcio<2.0,>=1.24.3 in /usr/local/lib/python3.11/dist-packages (from tensorflow) (1.74.0)\n",
            "Requirement already satisfied: tensorboard~=2.19.0 in /usr/local/lib/python3.11/dist-packages (from tensorflow) (2.19.0)\n",
            "Requirement already satisfied: keras>=3.5.0 in /usr/local/lib/python3.11/dist-packages (from tensorflow) (3.10.0)\n",
            "Requirement already satisfied: numpy<2.2.0,>=1.26.0 in /usr/local/lib/python3.11/dist-packages (from tensorflow) (2.0.2)\n",
            "Requirement already satisfied: h5py>=3.11.0 in /usr/local/lib/python3.11/dist-packages (from tensorflow) (3.14.0)\n",
            "Requirement already satisfied: ml-dtypes<1.0.0,>=0.5.1 in /usr/local/lib/python3.11/dist-packages (from tensorflow) (0.5.3)\n",
            "Requirement already satisfied: tensorflow-io-gcs-filesystem>=0.23.1 in /usr/local/lib/python3.11/dist-packages (from tensorflow) (0.37.1)\n",
            "Requirement already satisfied: wheel<1.0,>=0.23.0 in /usr/local/lib/python3.11/dist-packages (from astunparse>=1.6.0->tensorflow) (0.45.1)\n",
            "Requirement already satisfied: rich in /usr/local/lib/python3.11/dist-packages (from keras>=3.5.0->tensorflow) (13.9.4)\n",
            "Requirement already satisfied: namex in /usr/local/lib/python3.11/dist-packages (from keras>=3.5.0->tensorflow) (0.1.0)\n",
            "Requirement already satisfied: optree in /usr/local/lib/python3.11/dist-packages (from keras>=3.5.0->tensorflow) (0.17.0)\n",
            "Requirement already satisfied: charset-normalizer<4,>=2 in /usr/local/lib/python3.11/dist-packages (from requests<3,>=2.21.0->tensorflow) (3.4.2)\n",
            "Requirement already satisfied: idna<4,>=2.5 in /usr/local/lib/python3.11/dist-packages (from requests<3,>=2.21.0->tensorflow) (3.10)\n",
            "Requirement already satisfied: urllib3<3,>=1.21.1 in /usr/local/lib/python3.11/dist-packages (from requests<3,>=2.21.0->tensorflow) (2.5.0)\n",
            "Requirement already satisfied: certifi>=2017.4.17 in /usr/local/lib/python3.11/dist-packages (from requests<3,>=2.21.0->tensorflow) (2025.8.3)\n",
            "Requirement already satisfied: markdown>=2.6.8 in /usr/local/lib/python3.11/dist-packages (from tensorboard~=2.19.0->tensorflow) (3.8.2)\n",
            "Requirement already satisfied: tensorboard-data-server<0.8.0,>=0.7.0 in /usr/local/lib/python3.11/dist-packages (from tensorboard~=2.19.0->tensorflow) (0.7.2)\n",
            "Requirement already satisfied: werkzeug>=1.0.1 in /usr/local/lib/python3.11/dist-packages (from tensorboard~=2.19.0->tensorflow) (3.1.3)\n",
            "Requirement already satisfied: MarkupSafe>=2.1.1 in /usr/local/lib/python3.11/dist-packages (from werkzeug>=1.0.1->tensorboard~=2.19.0->tensorflow) (3.0.2)\n",
            "Requirement already satisfied: markdown-it-py>=2.2.0 in /usr/local/lib/python3.11/dist-packages (from rich->keras>=3.5.0->tensorflow) (3.0.0)\n",
            "Requirement already satisfied: pygments<3.0.0,>=2.13.0 in /usr/local/lib/python3.11/dist-packages (from rich->keras>=3.5.0->tensorflow) (2.19.2)\n",
            "Requirement already satisfied: mdurl~=0.1 in /usr/local/lib/python3.11/dist-packages (from markdown-it-py>=2.2.0->rich->keras>=3.5.0->tensorflow) (0.1.2)\n"
          ]
        }
      ]
    },
    {
      "cell_type": "code",
      "source": [
        "# importing essential libs\n",
        "import pandas as pd\n",
        "import numpy as np\n",
        "import re\n",
        "import nltk\n",
        "from nltk.corpus import stopwords\n",
        "from numpy import array\n",
        "\n",
        "import tensorflow as tf\n",
        "from tensorflow.keras.preprocessing.text import one_hot\n",
        "from tensorflow.keras.preprocessing.sequence import pad_sequences\n",
        "from tensorflow.keras.models import Sequential\n",
        "from tensorflow.keras.layers import Activation, Dropout, Dense\n",
        "from tensorflow.keras.layers import Flatten, LSTM\n",
        "from sklearn.model_selection import train_test_split"
      ],
      "metadata": {
        "id": "0ZuMIBAxFZ2V"
      },
      "execution_count": 6,
      "outputs": []
    },
    {
      "cell_type": "markdown",
      "source": [
        "#Loading dataset"
      ],
      "metadata": {
        "id": "e2zEPyMCMz1R"
      }
    },
    {
      "cell_type": "code",
      "source": [
        "#Loading dataset\n",
        "\n",
        "#importing IMDb Movie RevDataset\n",
        "movie_reviews = pd.read_csv(\"a1_IMDB_Dataset.csv\")\n"
      ],
      "metadata": {
        "id": "e0nk6t8xIwiC"
      },
      "execution_count": 7,
      "outputs": []
    },
    {
      "cell_type": "code",
      "source": [
        "# Dataset exploration\n",
        "\n",
        "movie_reviews.shape"
      ],
      "metadata": {
        "id": "Ls4kzYLfM-rp",
        "colab": {
          "base_uri": "https://localhost:8080/"
        },
        "outputId": "73158eaa-2790-4f44-e0cc-7840216e622f"
      },
      "execution_count": 8,
      "outputs": [
        {
          "output_type": "execute_result",
          "data": {
            "text/plain": [
              "(50000, 2)"
            ]
          },
          "metadata": {},
          "execution_count": 8
        }
      ]
    },
    {
      "cell_type": "code",
      "source": [
        "movie_reviews.head(5)"
      ],
      "metadata": {
        "id": "vLQ10NqjM_WH",
        "colab": {
          "base_uri": "https://localhost:8080/",
          "height": 206
        },
        "outputId": "44b8de64-3aac-4b8d-b087-222345b1abcd"
      },
      "execution_count": 9,
      "outputs": [
        {
          "output_type": "execute_result",
          "data": {
            "text/plain": [
              "                                              review sentiment\n",
              "0  One of the other reviewers has mentioned that ...  positive\n",
              "1  A wonderful little production. <br /><br />The...  positive\n",
              "2  I thought this was a wonderful way to spend ti...  positive\n",
              "3  Basically there's a family where a little boy ...  negative\n",
              "4  Petter Mattei's \"Love in the Time of Money\" is...  positive"
            ],
            "text/html": [
              "\n",
              "  <div id=\"df-6bcc985d-4062-4b70-b46f-c519060feb79\" class=\"colab-df-container\">\n",
              "    <div>\n",
              "<style scoped>\n",
              "    .dataframe tbody tr th:only-of-type {\n",
              "        vertical-align: middle;\n",
              "    }\n",
              "\n",
              "    .dataframe tbody tr th {\n",
              "        vertical-align: top;\n",
              "    }\n",
              "\n",
              "    .dataframe thead th {\n",
              "        text-align: right;\n",
              "    }\n",
              "</style>\n",
              "<table border=\"1\" class=\"dataframe\">\n",
              "  <thead>\n",
              "    <tr style=\"text-align: right;\">\n",
              "      <th></th>\n",
              "      <th>review</th>\n",
              "      <th>sentiment</th>\n",
              "    </tr>\n",
              "  </thead>\n",
              "  <tbody>\n",
              "    <tr>\n",
              "      <th>0</th>\n",
              "      <td>One of the other reviewers has mentioned that ...</td>\n",
              "      <td>positive</td>\n",
              "    </tr>\n",
              "    <tr>\n",
              "      <th>1</th>\n",
              "      <td>A wonderful little production. &lt;br /&gt;&lt;br /&gt;The...</td>\n",
              "      <td>positive</td>\n",
              "    </tr>\n",
              "    <tr>\n",
              "      <th>2</th>\n",
              "      <td>I thought this was a wonderful way to spend ti...</td>\n",
              "      <td>positive</td>\n",
              "    </tr>\n",
              "    <tr>\n",
              "      <th>3</th>\n",
              "      <td>Basically there's a family where a little boy ...</td>\n",
              "      <td>negative</td>\n",
              "    </tr>\n",
              "    <tr>\n",
              "      <th>4</th>\n",
              "      <td>Petter Mattei's \"Love in the Time of Money\" is...</td>\n",
              "      <td>positive</td>\n",
              "    </tr>\n",
              "  </tbody>\n",
              "</table>\n",
              "</div>\n",
              "    <div class=\"colab-df-buttons\">\n",
              "\n",
              "  <div class=\"colab-df-container\">\n",
              "    <button class=\"colab-df-convert\" onclick=\"convertToInteractive('df-6bcc985d-4062-4b70-b46f-c519060feb79')\"\n",
              "            title=\"Convert this dataframe to an interactive table.\"\n",
              "            style=\"display:none;\">\n",
              "\n",
              "  <svg xmlns=\"http://www.w3.org/2000/svg\" height=\"24px\" viewBox=\"0 -960 960 960\">\n",
              "    <path d=\"M120-120v-720h720v720H120Zm60-500h600v-160H180v160Zm220 220h160v-160H400v160Zm0 220h160v-160H400v160ZM180-400h160v-160H180v160Zm440 0h160v-160H620v160ZM180-180h160v-160H180v160Zm440 0h160v-160H620v160Z\"/>\n",
              "  </svg>\n",
              "    </button>\n",
              "\n",
              "  <style>\n",
              "    .colab-df-container {\n",
              "      display:flex;\n",
              "      gap: 12px;\n",
              "    }\n",
              "\n",
              "    .colab-df-convert {\n",
              "      background-color: #E8F0FE;\n",
              "      border: none;\n",
              "      border-radius: 50%;\n",
              "      cursor: pointer;\n",
              "      display: none;\n",
              "      fill: #1967D2;\n",
              "      height: 32px;\n",
              "      padding: 0 0 0 0;\n",
              "      width: 32px;\n",
              "    }\n",
              "\n",
              "    .colab-df-convert:hover {\n",
              "      background-color: #E2EBFA;\n",
              "      box-shadow: 0px 1px 2px rgba(60, 64, 67, 0.3), 0px 1px 3px 1px rgba(60, 64, 67, 0.15);\n",
              "      fill: #174EA6;\n",
              "    }\n",
              "\n",
              "    .colab-df-buttons div {\n",
              "      margin-bottom: 4px;\n",
              "    }\n",
              "\n",
              "    [theme=dark] .colab-df-convert {\n",
              "      background-color: #3B4455;\n",
              "      fill: #D2E3FC;\n",
              "    }\n",
              "\n",
              "    [theme=dark] .colab-df-convert:hover {\n",
              "      background-color: #434B5C;\n",
              "      box-shadow: 0px 1px 3px 1px rgba(0, 0, 0, 0.15);\n",
              "      filter: drop-shadow(0px 1px 2px rgba(0, 0, 0, 0.3));\n",
              "      fill: #FFFFFF;\n",
              "    }\n",
              "  </style>\n",
              "\n",
              "    <script>\n",
              "      const buttonEl =\n",
              "        document.querySelector('#df-6bcc985d-4062-4b70-b46f-c519060feb79 button.colab-df-convert');\n",
              "      buttonEl.style.display =\n",
              "        google.colab.kernel.accessAllowed ? 'block' : 'none';\n",
              "\n",
              "      async function convertToInteractive(key) {\n",
              "        const element = document.querySelector('#df-6bcc985d-4062-4b70-b46f-c519060feb79');\n",
              "        const dataTable =\n",
              "          await google.colab.kernel.invokeFunction('convertToInteractive',\n",
              "                                                    [key], {});\n",
              "        if (!dataTable) return;\n",
              "\n",
              "        const docLinkHtml = 'Like what you see? Visit the ' +\n",
              "          '<a target=\"_blank\" href=https://colab.research.google.com/notebooks/data_table.ipynb>data table notebook</a>'\n",
              "          + ' to learn more about interactive tables.';\n",
              "        element.innerHTML = '';\n",
              "        dataTable['output_type'] = 'display_data';\n",
              "        await google.colab.output.renderOutput(dataTable, element);\n",
              "        const docLink = document.createElement('div');\n",
              "        docLink.innerHTML = docLinkHtml;\n",
              "        element.appendChild(docLink);\n",
              "      }\n",
              "    </script>\n",
              "  </div>\n",
              "\n",
              "\n",
              "    <div id=\"df-4d713171-da94-40dd-a6c3-9c1ae5c79e24\">\n",
              "      <button class=\"colab-df-quickchart\" onclick=\"quickchart('df-4d713171-da94-40dd-a6c3-9c1ae5c79e24')\"\n",
              "                title=\"Suggest charts\"\n",
              "                style=\"display:none;\">\n",
              "\n",
              "<svg xmlns=\"http://www.w3.org/2000/svg\" height=\"24px\"viewBox=\"0 0 24 24\"\n",
              "     width=\"24px\">\n",
              "    <g>\n",
              "        <path d=\"M19 3H5c-1.1 0-2 .9-2 2v14c0 1.1.9 2 2 2h14c1.1 0 2-.9 2-2V5c0-1.1-.9-2-2-2zM9 17H7v-7h2v7zm4 0h-2V7h2v10zm4 0h-2v-4h2v4z\"/>\n",
              "    </g>\n",
              "</svg>\n",
              "      </button>\n",
              "\n",
              "<style>\n",
              "  .colab-df-quickchart {\n",
              "      --bg-color: #E8F0FE;\n",
              "      --fill-color: #1967D2;\n",
              "      --hover-bg-color: #E2EBFA;\n",
              "      --hover-fill-color: #174EA6;\n",
              "      --disabled-fill-color: #AAA;\n",
              "      --disabled-bg-color: #DDD;\n",
              "  }\n",
              "\n",
              "  [theme=dark] .colab-df-quickchart {\n",
              "      --bg-color: #3B4455;\n",
              "      --fill-color: #D2E3FC;\n",
              "      --hover-bg-color: #434B5C;\n",
              "      --hover-fill-color: #FFFFFF;\n",
              "      --disabled-bg-color: #3B4455;\n",
              "      --disabled-fill-color: #666;\n",
              "  }\n",
              "\n",
              "  .colab-df-quickchart {\n",
              "    background-color: var(--bg-color);\n",
              "    border: none;\n",
              "    border-radius: 50%;\n",
              "    cursor: pointer;\n",
              "    display: none;\n",
              "    fill: var(--fill-color);\n",
              "    height: 32px;\n",
              "    padding: 0;\n",
              "    width: 32px;\n",
              "  }\n",
              "\n",
              "  .colab-df-quickchart:hover {\n",
              "    background-color: var(--hover-bg-color);\n",
              "    box-shadow: 0 1px 2px rgba(60, 64, 67, 0.3), 0 1px 3px 1px rgba(60, 64, 67, 0.15);\n",
              "    fill: var(--button-hover-fill-color);\n",
              "  }\n",
              "\n",
              "  .colab-df-quickchart-complete:disabled,\n",
              "  .colab-df-quickchart-complete:disabled:hover {\n",
              "    background-color: var(--disabled-bg-color);\n",
              "    fill: var(--disabled-fill-color);\n",
              "    box-shadow: none;\n",
              "  }\n",
              "\n",
              "  .colab-df-spinner {\n",
              "    border: 2px solid var(--fill-color);\n",
              "    border-color: transparent;\n",
              "    border-bottom-color: var(--fill-color);\n",
              "    animation:\n",
              "      spin 1s steps(1) infinite;\n",
              "  }\n",
              "\n",
              "  @keyframes spin {\n",
              "    0% {\n",
              "      border-color: transparent;\n",
              "      border-bottom-color: var(--fill-color);\n",
              "      border-left-color: var(--fill-color);\n",
              "    }\n",
              "    20% {\n",
              "      border-color: transparent;\n",
              "      border-left-color: var(--fill-color);\n",
              "      border-top-color: var(--fill-color);\n",
              "    }\n",
              "    30% {\n",
              "      border-color: transparent;\n",
              "      border-left-color: var(--fill-color);\n",
              "      border-top-color: var(--fill-color);\n",
              "      border-right-color: var(--fill-color);\n",
              "    }\n",
              "    40% {\n",
              "      border-color: transparent;\n",
              "      border-right-color: var(--fill-color);\n",
              "      border-top-color: var(--fill-color);\n",
              "    }\n",
              "    60% {\n",
              "      border-color: transparent;\n",
              "      border-right-color: var(--fill-color);\n",
              "    }\n",
              "    80% {\n",
              "      border-color: transparent;\n",
              "      border-right-color: var(--fill-color);\n",
              "      border-bottom-color: var(--fill-color);\n",
              "    }\n",
              "    90% {\n",
              "      border-color: transparent;\n",
              "      border-bottom-color: var(--fill-color);\n",
              "    }\n",
              "  }\n",
              "</style>\n",
              "\n",
              "      <script>\n",
              "        async function quickchart(key) {\n",
              "          const quickchartButtonEl =\n",
              "            document.querySelector('#' + key + ' button');\n",
              "          quickchartButtonEl.disabled = true;  // To prevent multiple clicks.\n",
              "          quickchartButtonEl.classList.add('colab-df-spinner');\n",
              "          try {\n",
              "            const charts = await google.colab.kernel.invokeFunction(\n",
              "                'suggestCharts', [key], {});\n",
              "          } catch (error) {\n",
              "            console.error('Error during call to suggestCharts:', error);\n",
              "          }\n",
              "          quickchartButtonEl.classList.remove('colab-df-spinner');\n",
              "          quickchartButtonEl.classList.add('colab-df-quickchart-complete');\n",
              "        }\n",
              "        (() => {\n",
              "          let quickchartButtonEl =\n",
              "            document.querySelector('#df-4d713171-da94-40dd-a6c3-9c1ae5c79e24 button');\n",
              "          quickchartButtonEl.style.display =\n",
              "            google.colab.kernel.accessAllowed ? 'block' : 'none';\n",
              "        })();\n",
              "      </script>\n",
              "    </div>\n",
              "\n",
              "    </div>\n",
              "  </div>\n"
            ],
            "application/vnd.google.colaboratory.intrinsic+json": {
              "type": "dataframe",
              "variable_name": "movie_reviews",
              "summary": "{\n  \"name\": \"movie_reviews\",\n  \"rows\": 50000,\n  \"fields\": [\n    {\n      \"column\": \"review\",\n      \"properties\": {\n        \"dtype\": \"string\",\n        \"num_unique_values\": 49582,\n        \"samples\": [\n          \"\\\"Soul Plane\\\" is a horrible attempt at comedy that only should appeal people with thick skulls, bloodshot eyes and furry pawns. <br /><br />The plot is not only incoherent but also non-existent, acting is mostly sub sub-par with a gang of highly moronic and dreadful characters thrown in for bad measure, jokes are often spotted miles ahead and almost never even a bit amusing. This movie lacks any structure and is full of racial stereotypes that must have seemed old even in the fifties, the only thing it really has going for it is some pretty ladies, but really, if you want that you can rent something from the \\\"Adult\\\" section. OK?<br /><br />I can hardly see anything here to recommend since you'll probably have a lot a better and productive time chasing rats with a sledgehammer or inventing waterproof teabags or whatever.<br /><br />2/10\",\n          \"Guest from the Future tells a fascinating story of time travel, friendship, battle of good and evil -- all with a small budget, child actors, and few special effects. Something for Spielberg and Lucas to learn from. ;) A sixth-grader Kolya \\\"Nick\\\" Gerasimov finds a time machine in the basement of a decrepit building and travels 100 years into the future. He discovers a near-perfect, utopian society where robots play guitars and write poetry, everyone is kind to each other and people enjoy everything technology has to offer. Alice is the daughter of a prominent scientist who invented a device called Mielophone that allows to read minds of humans and animals. The device can be put to both good and bad use, depending on whose hands it falls into. When two evil space pirates from Saturn who want to rule the universe attempt to steal Mielophone, it falls into the hands of 20th century school boy Nick. With the pirates hot on his tracks, he travels back to his time, followed by the pirates, and Alice. Chaos, confusion and funny situations follow as the luckless pirates try to blend in with the earthlings. Alice enrolls in the same school Nick goes to and demonstrates superhuman abilities in PE class. The catch is, Alice doesn't know what Nick looks like, while the pirates do. Also, the pirates are able to change their appearance and turn literally into anyone. (Hmm, I wonder if this is where James Cameron got the idea for Terminator...) Who gets to Nick -- and Mielophone -- first? Excellent plot, non-stop adventures, and great soundtrack. I wish Hollywood made kid movies like this one...\",\n          \"\\\"National Treasure\\\" (2004) is a thoroughly misguided hodge-podge of plot entanglements that borrow from nearly every cloak and dagger government conspiracy clich\\u00e9 that has ever been written. The film stars Nicholas Cage as Benjamin Franklin Gates (how precious is that, I ask you?); a seemingly normal fellow who, for no other reason than being of a lineage of like-minded misguided fortune hunters, decides to steal a 'national treasure' that has been hidden by the United States founding fathers. After a bit of subtext and background that plays laughably (unintentionally) like Indiana Jones meets The Patriot, the film degenerates into one misguided whimsy after another \\u0096 attempting to create a 'Stanley Goodspeed' regurgitation of Nicholas Cage and launch the whole convoluted mess forward with a series of high octane, but disconnected misadventures.<br /><br />The relevancy and logic to having George Washington and his motley crew of patriots burying a king's ransom someplace on native soil, and then, going through the meticulous plan of leaving clues scattered throughout U.S. currency art work, is something that director Jon Turteltaub never quite gets around to explaining. Couldn't Washington found better usage for such wealth during the start up of the country? Hence, we are left with a mystery built on top of an enigma that is already on shaky ground by the time Ben appoints himself the new custodian of this untold wealth. Ben's intentions are noble \\u0096 if confusing. He's set on protecting the treasure. For who and when?\\u0085your guess is as good as mine.<br /><br />But there are a few problems with Ben's crusade. First up, his friend, Ian Holmes (Sean Bean) decides that he can't wait for Ben to make up his mind about stealing the Declaration of Independence from the National Archives (oh, yeah \\u0096 brilliant idea!). Presumably, the back of that famous document holds the secret answer to the ultimate fortune. So Ian tries to kill Ben. The assassination attempt is, of course, unsuccessful, if overly melodramatic. It also affords Ben the opportunity to pick up, and pick on, the very sultry curator of the archives, Abigail Chase (Diane Kruger). She thinks Ben is clearly a nut \\u0096 at least at the beginning. But true to action/romance form, Abby's resolve melts quicker than you can say, \\\"is that the Hope Diamond?\\\" The film moves into full X-File-ish mode, as the FBI, mistakenly believing that Ben is behind the theft, retaliate in various benign ways that lead to a multi-layering of action sequences reminiscent of Mission Impossible meets The Fugitive. Honestly, don't those guys ever get 'intelligence' information that is correct? In the final analysis, \\\"National Treasure\\\" isn't great film making, so much as it's a patchwork rehash of tired old bits from other movies, woven together from scraps, the likes of which would make IL' Betsy Ross blush.<br /><br />The Buena Vista DVD delivers a far more generous treatment than this film is deserving of. The anamorphic widescreen picture exhibits a very smooth and finely detailed image with very rich colors, natural flesh tones, solid blacks and clean whites. The stylized image is also free of blemishes and digital enhancements. The audio is 5.1 and delivers a nice sonic boom to your side and rear speakers with intensity and realism. Extras include a host of promotional junket material that is rather deep and over the top in its explanation of how and why this film was made. If only, as an audience, we had had more clarification as to why Ben and co. were chasing after an illusive treasure, this might have been one good flick. Extras conclude with the theatrical trailer, audio commentary and deleted scenes. Not for the faint-hearted \\u0096 just the thick-headed.\"\n        ],\n        \"semantic_type\": \"\",\n        \"description\": \"\"\n      }\n    },\n    {\n      \"column\": \"sentiment\",\n      \"properties\": {\n        \"dtype\": \"category\",\n        \"num_unique_values\": 2,\n        \"samples\": [\n          \"negative\",\n          \"positive\"\n        ],\n        \"semantic_type\": \"\",\n        \"description\": \"\"\n      }\n    }\n  ]\n}"
            }
          },
          "metadata": {},
          "execution_count": 9
        }
      ]
    },
    {
      "cell_type": "code",
      "source": [
        "# Checking for missing values\n",
        "\n",
        "movie_reviews.isnull().values.any()"
      ],
      "metadata": {
        "id": "18htpmG_NBuO",
        "colab": {
          "base_uri": "https://localhost:8080/"
        },
        "outputId": "41aa4dfc-1304-41e9-f6a1-80406998977d"
      },
      "execution_count": 10,
      "outputs": [
        {
          "output_type": "execute_result",
          "data": {
            "text/plain": [
              "np.False_"
            ]
          },
          "metadata": {},
          "execution_count": 10
        }
      ]
    },
    {
      "cell_type": "code",
      "source": [
        "#Data distribution p/n\n",
        "\n",
        "import seaborn as sns\n",
        "sns.countplot(x='sentiment', data=movie_reviews)"
      ],
      "metadata": {
        "id": "ODscc-HvNDtt",
        "colab": {
          "base_uri": "https://localhost:8080/",
          "height": 466
        },
        "outputId": "c47208d8-f808-46e4-d550-22d6d05b6b31"
      },
      "execution_count": 11,
      "outputs": [
        {
          "output_type": "execute_result",
          "data": {
            "text/plain": [
              "<Axes: xlabel='sentiment', ylabel='count'>"
            ]
          },
          "metadata": {},
          "execution_count": 11
        },
        {
          "output_type": "display_data",
          "data": {
            "text/plain": [
              "<Figure size 640x480 with 1 Axes>"
            ],
            "image/png": "[encoded data removed]"
          },
          "metadata": {}
        }
      ]
    },
    {
      "cell_type": "markdown",
      "source": [
        "#Data Preprocessing :("
      ],
      "metadata": {
        "id": "gXJH8sNYNN9p"
      }
    },
    {
      "cell_type": "code",
      "source": [
        "movie_reviews['review'][2]\n",
        "\n",
        "#We will now refine the text by removing everything that is not important"
      ],
      "metadata": {
        "id": "ucvDwgx4NVQ0",
        "colab": {
          "base_uri": "https://localhost:8080/",
          "height": 174
        },
        "outputId": "ed228f95-9fa3-4596-daa5-ea27d9996cc0"
      },
      "execution_count": 12,
      "outputs": [
        {
          "output_type": "execute_result",
          "data": {
            "text/plain": [
              "'I thought this was a wonderful way to spend time on a too hot summer weekend, sitting in the air conditioned theater and watching a light-hearted comedy. The plot is simplistic, but the dialogue is witty and the characters are likable (even the well bread suspected serial killer). While some may be disappointed when they realize this is not Match Point 2: Risk Addiction, I thought it was proof that Woody Allen is still fully in control of the style many of us have grown to love.<br /><br />This was the most I\\'d laughed at one of Woody\\'s comedies in years (dare I say a decade?). While I\\'ve never been impressed with Scarlet Johanson, in this she managed to tone down her \"sexy\" image and jumped right into a average, but spirited young woman.<br /><br />This may not be the crown jewel of his career, but it was wittier than \"Devil Wears Prada\" and more interesting than \"Superman\" a great comedy to go see with friends.'"
            ],
            "application/vnd.google.colaboratory.intrinsic+json": {
              "type": "string"
            }
          },
          "metadata": {},
          "execution_count": 12
        }
      ]
    },
    {
      "cell_type": "code",
      "source": [
        "import re\n",
        "from nltk.corpus import stopwords\n",
        "\n",
        "TAG_RE = re.compile(r'<[^>]+>') # find anything between < and >\n",
        "\n",
        "def remove_tags(text):\n",
        "  #replace anything in <> with space\n",
        "  return TAG_RE.sub('', text)"
      ],
      "metadata": {
        "id": "BO05IMsfOEpB"
      },
      "execution_count": 13,
      "outputs": []
    },
    {
      "cell_type": "code",
      "source": [
        "import nltk\n",
        "nltk.download('stopwords')"
      ],
      "metadata": {
        "id": "EFOcvsDqPDi3",
        "colab": {
          "base_uri": "https://localhost:8080/"
        },
        "outputId": "4e3f8b15-e529-4949-caa7-12e0b322085a"
      },
      "execution_count": 14,
      "outputs": [
        {
          "output_type": "stream",
          "name": "stderr",
          "text": [
            "[nltk_data] Downloading package stopwords to /root/nltk_data...\n",
            "[nltk_data]   Unzipping corpora/stopwords.zip.\n"
          ]
        },
        {
          "output_type": "execute_result",
          "data": {
            "text/plain": [
              "True"
            ]
          },
          "metadata": {},
          "execution_count": 14
        }
      ]
    },
    {
      "cell_type": "code",
      "source": [
        "def preprocess_text(sen):\n",
        "  '''clean the data leaving only two or more character long non-step words composed of a to z and small A to Z only and lowercase'''\n",
        "  sentence = sen.lower()\n",
        "  #remove tags\n",
        "  sentence = remove_tags(sentence)\n",
        "  #remove puncs and nums\n",
        "  sentence = re.sub('[^a-zA-Z]', ' ', sentence)\n",
        "  #remove single char\n",
        "  sentence = re.sub(r\"\\s+[a-zA-Z]\\s+\", ' ', sentence)\n",
        "  #remove multiple spaces\n",
        "  sentence = re.sub(r'\\s+', ' ', sentence)\n",
        "  #remove stopwords\n",
        "  pattern = re.compile(r'\\b(' + r'|'.join(stopwords.words('english')) + r')\\b\\s*')\n",
        "  sentence = pattern.sub('', sentence)\n",
        "  return sentence"
      ],
      "metadata": {
        "id": "_0U-rIyLPMLC"
      },
      "execution_count": 15,
      "outputs": []
    },
    {
      "cell_type": "code",
      "source": [
        "X=[]\n",
        "sentences = list(movie_reviews['review'])\n",
        "for sen in sentences:\n",
        "  X.append(preprocess_text(sen))"
      ],
      "metadata": {
        "id": "gVPGau8TiBKc"
      },
      "execution_count": 16,
      "outputs": []
    },
    {
      "cell_type": "code",
      "source": [
        "X[2]"
      ],
      "metadata": {
        "id": "fC6Kk7rzickV",
        "colab": {
          "base_uri": "https://localhost:8080/",
          "height": 122
        },
        "outputId": "677f0dfb-66c6-43cb-b2f5-19963a0ebd7d"
      },
      "execution_count": 17,
      "outputs": [
        {
          "output_type": "execute_result",
          "data": {
            "text/plain": [
              "'thought wonderful way spend time hot summer weekend sitting air conditioned theater watching light hearted comedy plot simplistic dialogue witty characters likable even well bread suspected serial killer may disappointed realize match point risk addiction thought proof woody allen still fully control style many us grown love laughed one woody comedies years dare say decade never impressed scarlet johanson managed tone sexy image jumped right average spirited young woman may crown jewel career wittier devil wears prada interesting superman great comedy go see friends '"
            ],
            "application/vnd.google.colaboratory.intrinsic+json": {
              "type": "string"
            }
          },
          "metadata": {},
          "execution_count": 17
        }
      ]
    },
    {
      "cell_type": "code",
      "source": [
        "# Converting the p/n to 1/0\n",
        "y = movie_reviews['sentiment']\n",
        "y = np.array(list(map(lambda x: 1 if x==\"positive\" else 0, y)))"
      ],
      "metadata": {
        "id": "-wAamniVitFo"
      },
      "execution_count": 18,
      "outputs": []
    },
    {
      "cell_type": "code",
      "source": [
        "from sklearn.model_selection import train_test_split\n",
        "\n",
        "X_train, X_test, y_train ,y_test = train_test_split(X,y,test_size=0.20,random_state=42)\n",
        "#spliting data"
      ],
      "metadata": {
        "id": "rtoT2vDzjR03"
      },
      "execution_count": 19,
      "outputs": []
    },
    {
      "cell_type": "markdown",
      "source": [
        "# Embedding\n",
        "![blog-king-queen-embeddings.jpg](data:image/jpeg;base64,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)"
      ],
      "metadata": {
        "id": "gbRf2ZAajslk"
      }
    },
    {
      "cell_type": "code",
      "source": [
        "# Using Tokenizer function from keras.preprocessing.text library\n",
        "# Method fit_on_text trains the tokenizer\n",
        "from tensorflow.keras.preprocessing.text import Tokenizer\n",
        "\n",
        "word_tokenizer = Tokenizer()\n",
        "word_tokenizer.fit_on_texts(X_train)\n",
        "\n",
        "X_train = word_tokenizer.texts_to_sequences(X_train)\n",
        "X_test = word_tokenizer.texts_to_sequences(X_test)"
      ],
      "metadata": {
        "id": "PtOLJO0jjnbI"
      },
      "execution_count": 20,
      "outputs": []
    },
    {
      "cell_type": "code",
      "source": [
        "vocab_lenght = len(word_tokenizer.word_index) + 1\n",
        "vocab_lenght"
      ],
      "metadata": {
        "id": "mNfZyyUXk04P",
        "colab": {
          "base_uri": "https://localhost:8080/"
        },
        "outputId": "df40740e-7c36-419b-d1a8-3de179d8c2a9"
      },
      "execution_count": 21,
      "outputs": [
        {
          "output_type": "execute_result",
          "data": {
            "text/plain": [
              "92394"
            ]
          },
          "metadata": {},
          "execution_count": 21
        }
      ]
    },
    {
      "cell_type": "code",
      "source": [
        "#padding to make a fixed lenght 100\n",
        "maxlen = 100\n",
        "\n",
        "X_train = pad_sequences(X_train, padding='post', maxlen=maxlen)\n",
        "X_test = pad_sequences(X_test, padding='post', maxlen=maxlen)"
      ],
      "metadata": {
        "id": "aN4pKbL2lVmK"
      },
      "execution_count": 22,
      "outputs": []
    },
    {
      "cell_type": "code",
      "source": [
        "#we use GloVe as a pre-trained to set word embeddings\n",
        "from numpy import asarray\n",
        "from numpy import zeros\n",
        "\n",
        "embeddings_dictionary = dict()\n",
        "glove_file = open('a2_glove.6B.100d.txt', encoding=\"utf8\")\n",
        "\n",
        "for line in glove_file:\n",
        "  records = line.split()\n",
        "  word = records[0]\n",
        "  vectors = asarray(records[1:], dtype='float32')\n",
        "  embeddings_dictionary[word] = vectors\n",
        "glove_file.close()\n",
        "\n",
        "\n"
      ],
      "metadata": {
        "id": "hMCBMrBilpTf"
      },
      "execution_count": 23,
      "outputs": []
    },
    {
      "cell_type": "code",
      "source": [
        "#Create Embedding Matrix having 100 columns\n",
        "# ind - word\n",
        "\n",
        "embeddings_matrix = zeros((vocab_lenght, 100))\n",
        "for word ,ind in word_tokenizer.word_index.items():\n",
        "  embeddings_vector = embeddings_dictionary.get(word)\n",
        "  if embeddings_vector is not None:\n",
        "    embeddings_matrix[ind] = embeddings_vector"
      ],
      "metadata": {
        "id": "AprZI30Rnf-v"
      },
      "execution_count": 24,
      "outputs": []
    },
    {
      "cell_type": "code",
      "source": [
        "embeddings_matrix.shape"
      ],
      "metadata": {
        "id": "JM4Hty2wqBrx",
        "colab": {
          "base_uri": "https://localhost:8080/"
        },
        "outputId": "037dde5c-4b79-47d9-da39-923db5dc94c1"
      },
      "execution_count": 53,
      "outputs": [
        {
          "output_type": "execute_result",
          "data": {
            "text/plain": [
              "(92394, 100)"
            ]
          },
          "metadata": {},
          "execution_count": 53
        }
      ]
    },
    {
      "cell_type": "code",
      "source": [
        "embeddings_matrix[2]"
      ],
      "metadata": {
        "colab": {
          "base_uri": "https://localhost:8080/"
        },
        "id": "FmELBe6EGdzV",
        "outputId": "9740611d-9d02-4a36-ac80-7f1928e02de5"
      },
      "execution_count": 54,
      "outputs": [
        {
          "output_type": "execute_result",
          "data": {
            "text/plain": [
              "array([ 0.19915999, -0.049702  ,  0.24579   , -0.32280999,  0.89767998,\n",
              "       -0.1278    , -0.49506   ,  0.20814   , -0.20046   , -0.20603999,\n",
              "        0.038292  , -0.67277002, -0.12689   , -0.18765999, -0.10277   ,\n",
              "        0.73128003,  0.82407999,  0.087288  ,  0.69255   ,  1.31070006,\n",
              "        0.49112999, -0.38097   ,  0.24338   , -0.27812999,  0.62506002,\n",
              "        0.35978001,  0.42041001, -0.24529   ,  0.14861   , -0.26725999,\n",
              "       -0.56261998,  0.63843   , -0.54153001,  0.36537001,  0.20545   ,\n",
              "       -0.16604   ,  0.72434002,  0.29960999, -0.42501   , -0.35932001,\n",
              "       -0.089288  ,  0.48752001, -1.0927    ,  0.88818002,  0.89941001,\n",
              "       -0.75410002, -0.35492   , -0.76396   ,  0.27467999,  0.2757    ,\n",
              "       -0.48152   , -0.41398999,  0.64489001,  1.148     , -0.29131001,\n",
              "       -2.93869996, -0.83161998,  0.95586002,  1.16229999, -0.42502001,\n",
              "        0.15486   ,  2.23259997, -0.31338999, -0.030228  ,  0.79802001,\n",
              "       -0.41302001,  0.72885001,  0.72960001, -0.31909001,  0.89560002,\n",
              "        0.34625   ,  0.29229999,  0.40055999,  0.78985   , -0.43999001,\n",
              "        0.24698   , -0.46548   ,  0.055886  , -0.62603003, -0.036487  ,\n",
              "       -0.65429002,  0.10563   ,  0.17434999,  0.35466   , -1.94029999,\n",
              "       -0.022502  , -0.73019999, -0.63042003, -0.032799  , -0.43952999,\n",
              "       -0.07239   , -0.44874999, -0.074689  , -0.14426   ,  0.19251999,\n",
              "        0.27107999,  0.20325001, -0.068109  ,  0.017651  ,  0.06455   ])"
            ]
          },
          "metadata": {},
          "execution_count": 54
        }
      ]
    },
    {
      "cell_type": "markdown",
      "source": [
        "# Simple Neural Net model"
      ],
      "metadata": {
        "id": "UPgwvuwOIOKI"
      }
    },
    {
      "cell_type": "code",
      "source": [
        "# Neural Network architecture\n",
        "from tensorflow.keras.layers import Embedding\n",
        "\n",
        "snn_model = Sequential()\n",
        "embedding_layer = Embedding(vocab_lenght, 100, weights=[embeddings_matrix], input_length=maxlen , trainable=False)\n",
        "\n",
        "snn_model.add(embedding_layer)\n",
        "snn_model.add(Flatten())\n",
        "snn_model.add(Dense(1, activation='sigmoid'))"
      ],
      "metadata": {
        "id": "cFyyUu83IYGa",
        "colab": {
          "base_uri": "https://localhost:8080/"
        },
        "outputId": "611f6d39-84ea-4566-e3a0-3ad742dd0b16"
      },
      "execution_count": 26,
      "outputs": [
        {
          "output_type": "stream",
          "name": "stderr",
          "text": [
            "/usr/local/lib/python3.11/dist-packages/keras/src/layers/core/embedding.py:97: UserWarning: Argument `input_length` is deprecated. Just remove it.\n",
            "  warnings.warn(\n"
          ]
        }
      ]
    },
    {
      "cell_type": "code",
      "source": [
        "#model Compiling\n",
        "\n",
        "snn_model.compile(optimizer='adam', loss='binary_crossentropy', metrics=['acc'])\n",
        "print(snn_model.summary())"
      ],
      "metadata": {
        "id": "-4cU_dY1KyOr",
        "colab": {
          "base_uri": "https://localhost:8080/",
          "height": 247
        },
        "outputId": "6e76bc94-7897-4646-ac15-fd08fb0e64a0"
      },
      "execution_count": 27,
      "outputs": [
        {
          "output_type": "display_data",
          "data": {
            "text/plain": [
              "\u001b[1mModel: \"sequential\"\u001b[0m\n"
            ],
            "text/html": [
              "<pre style=\"white-space:pre;overflow-x:auto;line-height:normal;font-family:Menlo,'DejaVu Sans Mono',consolas,'Courier New',monospace\"><span style=\"font-weight: bold\">Model: \"sequential\"</span>\n",
              "</pre>\n"
            ]
          },
          "metadata": {}
        },
        {
          "output_type": "display_data",
          "data": {
            "text/plain": [
              "┏━━━━━━━━━━━━━━━━━━━━━━━━━━━━━━━━━┳━━━━━━━━━━━━━━━━━━━━━━━━┳━━━━━━━━━━━━━━━┓\n",
              "┃\u001b[1m \u001b[0m\u001b[1mLayer (type)                   \u001b[0m\u001b[1m \u001b[0m┃\u001b[1m \u001b[0m\u001b[1mOutput Shape          \u001b[0m\u001b[1m \u001b[0m┃\u001b[1m \u001b[0m\u001b[1m      Param #\u001b[0m\u001b[1m \u001b[0m┃\n",
              "┡━━━━━━━━━━━━━━━━━━━━━━━━━━━━━━━━━╇━━━━━━━━━━━━━━━━━━━━━━━━╇━━━━━━━━━━━━━━━┩\n",
              "│ embedding (\u001b[38;5;33mEmbedding\u001b[0m)           │ ?                      │     \u001b[38;5;34m9,239,400\u001b[0m │\n",
              "├─────────────────────────────────┼────────────────────────┼───────────────┤\n",
              "│ flatten (\u001b[38;5;33mFlatten\u001b[0m)               │ ?                      │   \u001b[38;5;34m0\u001b[0m (unbuilt) │\n",
              "├─────────────────────────────────┼────────────────────────┼───────────────┤\n",
              "│ dense (\u001b[38;5;33mDense\u001b[0m)                   │ ?                      │   \u001b[38;5;34m0\u001b[0m (unbuilt) │\n",
              "└─────────────────────────────────┴────────────────────────┴───────────────┘\n"
            ],
            "text/html": [
              "<pre style=\"white-space:pre;overflow-x:auto;line-height:normal;font-family:Menlo,'DejaVu Sans Mono',consolas,'Courier New',monospace\">┏━━━━━━━━━━━━━━━━━━━━━━━━━━━━━━━━━┳━━━━━━━━━━━━━━━━━━━━━━━━┳━━━━━━━━━━━━━━━┓\n",
              "┃<span style=\"font-weight: bold\"> Layer (type)                    </span>┃<span style=\"font-weight: bold\"> Output Shape           </span>┃<span style=\"font-weight: bold\">       Param # </span>┃\n",
              "┡━━━━━━━━━━━━━━━━━━━━━━━━━━━━━━━━━╇━━━━━━━━━━━━━━━━━━━━━━━━╇━━━━━━━━━━━━━━━┩\n",
              "│ embedding (<span style=\"color: #0087ff; text-decoration-color: #0087ff\">Embedding</span>)           │ ?                      │     <span style=\"color: #00af00; text-decoration-color: #00af00\">9,239,400</span> │\n",
              "├─────────────────────────────────┼────────────────────────┼───────────────┤\n",
              "│ flatten (<span style=\"color: #0087ff; text-decoration-color: #0087ff\">Flatten</span>)               │ ?                      │   <span style=\"color: #00af00; text-decoration-color: #00af00\">0</span> (unbuilt) │\n",
              "├─────────────────────────────────┼────────────────────────┼───────────────┤\n",
              "│ dense (<span style=\"color: #0087ff; text-decoration-color: #0087ff\">Dense</span>)                   │ ?                      │   <span style=\"color: #00af00; text-decoration-color: #00af00\">0</span> (unbuilt) │\n",
              "└─────────────────────────────────┴────────────────────────┴───────────────┘\n",
              "</pre>\n"
            ]
          },
          "metadata": {}
        },
        {
          "output_type": "display_data",
          "data": {
            "text/plain": [
              "\u001b[1m Total params: \u001b[0m\u001b[38;5;34m9,239,400\u001b[0m (35.25 MB)\n"
            ],
            "text/html": [
              "<pre style=\"white-space:pre;overflow-x:auto;line-height:normal;font-family:Menlo,'DejaVu Sans Mono',consolas,'Courier New',monospace\"><span style=\"font-weight: bold\"> Total params: </span><span style=\"color: #00af00; text-decoration-color: #00af00\">9,239,400</span> (35.25 MB)\n",
              "</pre>\n"
            ]
          },
          "metadata": {}
        },
        {
          "output_type": "display_data",
          "data": {
            "text/plain": [
              "\u001b[1m Trainable params: \u001b[0m\u001b[38;5;34m0\u001b[0m (0.00 B)\n"
            ],
            "text/html": [
              "<pre style=\"white-space:pre;overflow-x:auto;line-height:normal;font-family:Menlo,'DejaVu Sans Mono',consolas,'Courier New',monospace\"><span style=\"font-weight: bold\"> Trainable params: </span><span style=\"color: #00af00; text-decoration-color: #00af00\">0</span> (0.00 B)\n",
              "</pre>\n"
            ]
          },
          "metadata": {}
        },
        {
          "output_type": "display_data",
          "data": {
            "text/plain": [
              "\u001b[1m Non-trainable params: \u001b[0m\u001b[38;5;34m9,239,400\u001b[0m (35.25 MB)\n"
            ],
            "text/html": [
              "<pre style=\"white-space:pre;overflow-x:auto;line-height:normal;font-family:Menlo,'DejaVu Sans Mono',consolas,'Courier New',monospace\"><span style=\"font-weight: bold\"> Non-trainable params: </span><span style=\"color: #00af00; text-decoration-color: #00af00\">9,239,400</span> (35.25 MB)\n",
              "</pre>\n"
            ]
          },
          "metadata": {}
        },
        {
          "output_type": "stream",
          "name": "stdout",
          "text": [
            "None\n"
          ]
        }
      ]
    },
    {
      "cell_type": "code",
      "source": [
        "#Model training\n",
        "\n",
        "history = snn_model.fit(X_train, y_train, batch_size=128, epochs=5, verbose=1, validation_split=0.2)"
      ],
      "metadata": {
        "id": "H7uoPqYmOwYg",
        "colab": {
          "base_uri": "https://localhost:8080/"
        },
        "outputId": "ae5c9480-4276-4549-96a6-27d194365499"
      },
      "execution_count": 28,
      "outputs": [
        {
          "output_type": "stream",
          "name": "stdout",
          "text": [
            "Epoch 1/5\n",
            "\u001b[1m250/250\u001b[0m \u001b[32m━━━━━━━━━━━━━━━━━━━━\u001b[0m\u001b[37m\u001b[0m \u001b[1m3s\u001b[0m 7ms/step - acc: 0.6614 - loss: 0.6083 - val_acc: 0.7619 - val_loss: 0.5018\n",
            "Epoch 2/5\n",
            "\u001b[1m250/250\u001b[0m \u001b[32m━━━━━━━━━━━━━━━━━━━━\u001b[0m\u001b[37m\u001b[0m \u001b[1m2s\u001b[0m 6ms/step - acc: 0.8013 - loss: 0.4425 - val_acc: 0.7653 - val_loss: 0.4954\n",
            "Epoch 3/5\n",
            "\u001b[1m250/250\u001b[0m \u001b[32m━━━━━━━━━━━━━━━━━━━━\u001b[0m\u001b[37m\u001b[0m \u001b[1m2s\u001b[0m 6ms/step - acc: 0.8245 - loss: 0.4008 - val_acc: 0.7431 - val_loss: 0.5416\n",
            "Epoch 4/5\n",
            "\u001b[1m250/250\u001b[0m \u001b[32m━━━━━━━━━━━━━━━━━━━━\u001b[0m\u001b[37m\u001b[0m \u001b[1m4s\u001b[0m 10ms/step - acc: 0.8369 - loss: 0.3795 - val_acc: 0.7601 - val_loss: 0.5113\n",
            "Epoch 5/5\n",
            "\u001b[1m250/250\u001b[0m \u001b[32m━━━━━━━━━━━━━━━━━━━━\u001b[0m\u001b[37m\u001b[0m \u001b[1m2s\u001b[0m 8ms/step - acc: 0.8420 - loss: 0.3642 - val_acc: 0.7570 - val_loss: 0.5217\n"
          ]
        }
      ]
    },
    {
      "cell_type": "code",
      "source": [
        "#prediction on the test Set\n",
        "\n",
        "score = snn_model.evaluate(X_test, y_test, verbose=1)"
      ],
      "metadata": {
        "id": "Nb9CUwABPNEb",
        "colab": {
          "base_uri": "https://localhost:8080/"
        },
        "outputId": "5c11854c-baf9-4519-a4ec-5e3f9d432d11"
      },
      "execution_count": 29,
      "outputs": [
        {
          "output_type": "stream",
          "name": "stdout",
          "text": [
            "\u001b[1m313/313\u001b[0m \u001b[32m━━━━━━━━━━━━━━━━━━━━\u001b[0m\u001b[37m\u001b[0m \u001b[1m1s\u001b[0m 2ms/step - acc: 0.7455 - loss: 0.5456\n"
          ]
        }
      ]
    },
    {
      "cell_type": "code",
      "source": [
        "#Model Performance\n",
        "\n",
        "print(\"Test Score: \",score[0])\n",
        "print(\"Test Accuracy: \",score[1])"
      ],
      "metadata": {
        "id": "QSrsxa6BQo8Q",
        "colab": {
          "base_uri": "https://localhost:8080/"
        },
        "outputId": "a990befe-f85b-4d2b-aa9f-cf53eeb471c2"
      },
      "execution_count": 30,
      "outputs": [
        {
          "output_type": "stream",
          "name": "stdout",
          "text": [
            "Test Score:  0.5468218922615051\n",
            "Test Accuracy:  0.7505999803543091\n"
          ]
        }
      ]
    },
    {
      "cell_type": "code",
      "source": [
        "import matplotlib.pyplot as plt\n",
        "\n",
        "plt.plot(history.history['acc'])\n",
        "plt.plot(history.history['val_acc'])\n",
        "\n",
        "plt.title('model accuracy')\n",
        "plt.ylabel('accuracy')\n",
        "plt.xlabel('epoch')\n",
        "plt.legend(['train', 'test'], loc='upper left')\n",
        "plt.show()\n",
        "\n",
        "plt.plot(history.history['loss'])\n",
        "plt.plot(history.history['val_loss'])\n",
        "\n",
        "plt.title('model loss')\n",
        "plt.ylabel('loss')\n",
        "plt.xlabel('epoch')\n",
        "plt.legend(['train', 'test'], loc='upper left')\n",
        "plt.show()"
      ],
      "metadata": {
        "id": "43MwyXRXRe_7",
        "colab": {
          "base_uri": "https://localhost:8080/",
          "height": 927
        },
        "outputId": "4ab23cf2-9976-48ab-9820-b84a8385651f"
      },
      "execution_count": 31,
      "outputs": [
        {
          "output_type": "display_data",
          "data": {
            "text/plain": [
              "<Figure size 640x480 with 1 Axes>"
            ],
            "image/png": "[encoded data removed]"
          },
          "metadata": {}
        },
        {
          "output_type": "display_data",
          "data": {
            "text/plain": [
              "<Figure size 640x480 with 1 Axes>"
            ],
            "image/png": "[encoded data removed]"
          },
          "metadata": {}
        }
      ]
    },
    {
      "cell_type": "markdown",
      "source": [
        "# RNN (LSTM)"
      ],
      "metadata": {
        "id": "00j4zXOJWetg"
      }
    },
    {
      "cell_type": "code",
      "source": [
        "from keras.layers import LSTM"
      ],
      "metadata": {
        "id": "-UNe5qUOWjK5"
      },
      "execution_count": 32,
      "outputs": []
    },
    {
      "cell_type": "code",
      "source": [
        "# The NN architecture\n",
        "\n",
        "lstm_model = Sequential()\n",
        "embedding_layer = Embedding(vocab_lenght, 100, weights=[embeddings_matrix], input_length=maxlen , trainable=False)\n",
        "\n",
        "lstm_model.add(embedding_layer)\n",
        "lstm_model.add(LSTM(128))\n",
        "\n",
        "lstm_model.add(Dense(1, activation='sigmoid'))"
      ],
      "metadata": {
        "id": "5-8cLac3W5bC"
      },
      "execution_count": 33,
      "outputs": []
    },
    {
      "cell_type": "code",
      "source": [
        "# Model Compiling\n",
        "\n",
        "lstm_model.compile(optimizer='adam', loss='binary_crossentropy', metrics=['acc'])\n",
        "print(lstm_model.summary())"
      ],
      "metadata": {
        "id": "UStAY53BXAPy",
        "colab": {
          "base_uri": "https://localhost:8080/",
          "height": 247
        },
        "outputId": "a2abe3bf-6ec6-47ba-ab2f-574677e0f6ad"
      },
      "execution_count": 34,
      "outputs": [
        {
          "output_type": "display_data",
          "data": {
            "text/plain": [
              "\u001b[1mModel: \"sequential_1\"\u001b[0m\n"
            ],
            "text/html": [
              "<pre style=\"white-space:pre;overflow-x:auto;line-height:normal;font-family:Menlo,'DejaVu Sans Mono',consolas,'Courier New',monospace\"><span style=\"font-weight: bold\">Model: \"sequential_1\"</span>\n",
              "</pre>\n"
            ]
          },
          "metadata": {}
        },
        {
          "output_type": "display_data",
          "data": {
            "text/plain": [
              "┏━━━━━━━━━━━━━━━━━━━━━━━━━━━━━━━━━┳━━━━━━━━━━━━━━━━━━━━━━━━┳━━━━━━━━━━━━━━━┓\n",
              "┃\u001b[1m \u001b[0m\u001b[1mLayer (type)                   \u001b[0m\u001b[1m \u001b[0m┃\u001b[1m \u001b[0m\u001b[1mOutput Shape          \u001b[0m\u001b[1m \u001b[0m┃\u001b[1m \u001b[0m\u001b[1m      Param #\u001b[0m\u001b[1m \u001b[0m┃\n",
              "┡━━━━━━━━━━━━━━━━━━━━━━━━━━━━━━━━━╇━━━━━━━━━━━━━━━━━━━━━━━━╇━━━━━━━━━━━━━━━┩\n",
              "│ embedding_1 (\u001b[38;5;33mEmbedding\u001b[0m)         │ ?                      │     \u001b[38;5;34m9,239,400\u001b[0m │\n",
              "├─────────────────────────────────┼────────────────────────┼───────────────┤\n",
              "│ lstm (\u001b[38;5;33mLSTM\u001b[0m)                     │ ?                      │   \u001b[38;5;34m0\u001b[0m (unbuilt) │\n",
              "├─────────────────────────────────┼────────────────────────┼───────────────┤\n",
              "│ dense_1 (\u001b[38;5;33mDense\u001b[0m)                 │ ?                      │   \u001b[38;5;34m0\u001b[0m (unbuilt) │\n",
              "└─────────────────────────────────┴────────────────────────┴───────────────┘\n"
            ],
            "text/html": [
              "<pre style=\"white-space:pre;overflow-x:auto;line-height:normal;font-family:Menlo,'DejaVu Sans Mono',consolas,'Courier New',monospace\">┏━━━━━━━━━━━━━━━━━━━━━━━━━━━━━━━━━┳━━━━━━━━━━━━━━━━━━━━━━━━┳━━━━━━━━━━━━━━━┓\n",
              "┃<span style=\"font-weight: bold\"> Layer (type)                    </span>┃<span style=\"font-weight: bold\"> Output Shape           </span>┃<span style=\"font-weight: bold\">       Param # </span>┃\n",
              "┡━━━━━━━━━━━━━━━━━━━━━━━━━━━━━━━━━╇━━━━━━━━━━━━━━━━━━━━━━━━╇━━━━━━━━━━━━━━━┩\n",
              "│ embedding_1 (<span style=\"color: #0087ff; text-decoration-color: #0087ff\">Embedding</span>)         │ ?                      │     <span style=\"color: #00af00; text-decoration-color: #00af00\">9,239,400</span> │\n",
              "├─────────────────────────────────┼────────────────────────┼───────────────┤\n",
              "│ lstm (<span style=\"color: #0087ff; text-decoration-color: #0087ff\">LSTM</span>)                     │ ?                      │   <span style=\"color: #00af00; text-decoration-color: #00af00\">0</span> (unbuilt) │\n",
              "├─────────────────────────────────┼────────────────────────┼───────────────┤\n",
              "│ dense_1 (<span style=\"color: #0087ff; text-decoration-color: #0087ff\">Dense</span>)                 │ ?                      │   <span style=\"color: #00af00; text-decoration-color: #00af00\">0</span> (unbuilt) │\n",
              "└─────────────────────────────────┴────────────────────────┴───────────────┘\n",
              "</pre>\n"
            ]
          },
          "metadata": {}
        },
        {
          "output_type": "display_data",
          "data": {
            "text/plain": [
              "\u001b[1m Total params: \u001b[0m\u001b[38;5;34m9,239,400\u001b[0m (35.25 MB)\n"
            ],
            "text/html": [
              "<pre style=\"white-space:pre;overflow-x:auto;line-height:normal;font-family:Menlo,'DejaVu Sans Mono',consolas,'Courier New',monospace\"><span style=\"font-weight: bold\"> Total params: </span><span style=\"color: #00af00; text-decoration-color: #00af00\">9,239,400</span> (35.25 MB)\n",
              "</pre>\n"
            ]
          },
          "metadata": {}
        },
        {
          "output_type": "display_data",
          "data": {
            "text/plain": [
              "\u001b[1m Trainable params: \u001b[0m\u001b[38;5;34m0\u001b[0m (0.00 B)\n"
            ],
            "text/html": [
              "<pre style=\"white-space:pre;overflow-x:auto;line-height:normal;font-family:Menlo,'DejaVu Sans Mono',consolas,'Courier New',monospace\"><span style=\"font-weight: bold\"> Trainable params: </span><span style=\"color: #00af00; text-decoration-color: #00af00\">0</span> (0.00 B)\n",
              "</pre>\n"
            ]
          },
          "metadata": {}
        },
        {
          "output_type": "display_data",
          "data": {
            "text/plain": [
              "\u001b[1m Non-trainable params: \u001b[0m\u001b[38;5;34m9,239,400\u001b[0m (35.25 MB)\n"
            ],
            "text/html": [
              "<pre style=\"white-space:pre;overflow-x:auto;line-height:normal;font-family:Menlo,'DejaVu Sans Mono',consolas,'Courier New',monospace\"><span style=\"font-weight: bold\"> Non-trainable params: </span><span style=\"color: #00af00; text-decoration-color: #00af00\">9,239,400</span> (35.25 MB)\n",
              "</pre>\n"
            ]
          },
          "metadata": {}
        },
        {
          "output_type": "stream",
          "name": "stdout",
          "text": [
            "None\n"
          ]
        }
      ]
    },
    {
      "cell_type": "code",
      "source": [
        "# Model Training\n",
        "\n",
        "lstm_model_history = lstm_model.fit(X_train, y_train, batch_size=128, epochs=5, verbose=1, validation_split=0.2)\n"
      ],
      "metadata": {
        "id": "edA6epL1YS8t",
        "colab": {
          "base_uri": "https://localhost:8080/"
        },
        "outputId": "e75f38f6-b2de-4294-a291-72531afe62d2"
      },
      "execution_count": 35,
      "outputs": [
        {
          "output_type": "stream",
          "name": "stdout",
          "text": [
            "Epoch 1/5\n",
            "\u001b[1m250/250\u001b[0m \u001b[32m━━━━━━━━━━━━━━━━━━━━\u001b[0m\u001b[37m\u001b[0m \u001b[1m91s\u001b[0m 355ms/step - acc: 0.7074 - loss: 0.5635 - val_acc: 0.8020 - val_loss: 0.4520\n",
            "Epoch 2/5\n",
            "\u001b[1m250/250\u001b[0m \u001b[32m━━━━━━━━━━━━━━━━━━━━\u001b[0m\u001b[37m\u001b[0m \u001b[1m138s\u001b[0m 339ms/step - acc: 0.8021 - loss: 0.4347 - val_acc: 0.8185 - val_loss: 0.4080\n",
            "Epoch 3/5\n",
            "\u001b[1m250/250\u001b[0m \u001b[32m━━━━━━━━━━━━━━━━━━━━\u001b[0m\u001b[37m\u001b[0m \u001b[1m144s\u001b[0m 349ms/step - acc: 0.8341 - loss: 0.3815 - val_acc: 0.8514 - val_loss: 0.3524\n",
            "Epoch 4/5\n",
            "\u001b[1m250/250\u001b[0m \u001b[32m━━━━━━━━━━━━━━━━━━━━\u001b[0m\u001b[37m\u001b[0m \u001b[1m139s\u001b[0m 336ms/step - acc: 0.8505 - loss: 0.3516 - val_acc: 0.8429 - val_loss: 0.3581\n",
            "Epoch 5/5\n",
            "\u001b[1m250/250\u001b[0m \u001b[32m━━━━━━━━━━━━━━━━━━━━\u001b[0m\u001b[37m\u001b[0m \u001b[1m143s\u001b[0m 340ms/step - acc: 0.8527 - loss: 0.3410 - val_acc: 0.8637 - val_loss: 0.3300\n"
          ]
        }
      ]
    },
    {
      "cell_type": "code",
      "source": [
        "#Prediction\n",
        "\n",
        "score = lstm_model.evaluate(X_test, y_test, verbose=1)"
      ],
      "metadata": {
        "id": "FHZyXkGtYtUD",
        "colab": {
          "base_uri": "https://localhost:8080/"
        },
        "outputId": "7bc9285e-c35a-49eb-9542-549078469ad1"
      },
      "execution_count": 36,
      "outputs": [
        {
          "output_type": "stream",
          "name": "stdout",
          "text": [
            "\u001b[1m313/313\u001b[0m \u001b[32m━━━━━━━━━━━━━━━━━━━━\u001b[0m\u001b[37m\u001b[0m \u001b[1m20s\u001b[0m 63ms/step - acc: 0.8589 - loss: 0.3376\n"
          ]
        }
      ]
    },
    {
      "cell_type": "code",
      "source": [
        "# Model performance\n",
        "\n",
        "print(\"Test Score: \",score[0])\n",
        "print(\"Test Accuracy: \",score[1])"
      ],
      "metadata": {
        "id": "M-94tCtRww_f",
        "colab": {
          "base_uri": "https://localhost:8080/"
        },
        "outputId": "f4b3c29d-b5d5-4f22-9ad7-53a74e7f628c"
      },
      "execution_count": 37,
      "outputs": [
        {
          "output_type": "stream",
          "name": "stdout",
          "text": [
            "Test Score:  0.33544230461120605\n",
            "Test Accuracy:  0.8590999841690063\n"
          ]
        }
      ]
    },
    {
      "cell_type": "markdown",
      "source": [],
      "metadata": {
        "id": "L2TWZ6I8zKe_"
      }
    },
    {
      "cell_type": "code",
      "source": [
        "import matplotlib.pyplot as plt\n",
        "\n",
        "plt.plot(lstm_model_history.history['acc'])\n",
        "plt.plot(lstm_model_history.history['val_acc'])\n",
        "\n",
        "plt.title('model accuracy')\n",
        "plt.ylabel('accuracy')\n",
        "plt.xlabel('epoch')\n",
        "plt.legend(['train', 'test'], loc='upper left')\n",
        "plt.show()\n",
        "\n",
        "plt.plot(lstm_model_history.history['loss'])\n",
        "plt.plot(lstm_model_history.history['val_loss'])\n",
        "\n",
        "plt.title('model loss')\n",
        "plt.ylabel('loss')\n",
        "plt.xlabel('epoch')\n",
        "plt.legend(['train', 'test'], loc='upper left')\n",
        "plt.show()"
      ],
      "metadata": {
        "id": "W3etkJ0wxOiE",
        "colab": {
          "base_uri": "https://localhost:8080/",
          "height": 927
        },
        "outputId": "c19fafd1-7eb2-4d07-b6bf-39de6f5d5c1d"
      },
      "execution_count": 38,
      "outputs": [
        {
          "output_type": "display_data",
          "data": {
            "text/plain": [
              "<Figure size 640x480 with 1 Axes>"
            ],
            "image/png": "[encoded data removed]"
          },
          "metadata": {}
        },
        {
          "output_type": "display_data",
          "data": {
            "text/plain": [
              "<Figure size 640x480 with 1 Axes>"
            ],
            "image/png": "[encoded data removed]"
          },
          "metadata": {}
        }
      ]
    },
    {
      "cell_type": "markdown",
      "source": [
        "# RNN(GRUs)"
      ],
      "metadata": {
        "id": "Nfx5kVIkaMvH"
      }
    },
    {
      "cell_type": "code",
      "source": [
        "#simple gru model\n",
        "\n",
        "from keras.layers import GRU\n",
        "gru_model = Sequential()\n",
        "\n",
        "embedding_layer = Embedding(vocab_lenght, 100, weights=[embeddings_matrix], input_length=maxlen , trainable=False)\n",
        "gru_model.add(embedding_layer)\n",
        "gru_model.add(GRU(128))\n",
        "gru_model.add(Dense(1, activation='sigmoid'))"
      ],
      "metadata": {
        "id": "-aYeDhodaQ_E"
      },
      "execution_count": 39,
      "outputs": []
    },
    {
      "cell_type": "code",
      "source": [
        "gru_model.compile(optimizer='adam', loss='binary_crossentropy', metrics=['acc'])\n",
        "print(gru_model.summary())"
      ],
      "metadata": {
        "colab": {
          "base_uri": "https://localhost:8080/",
          "height": 247
        },
        "id": "dM7ApQ6Caipz",
        "outputId": "efe49803-22da-4e5a-8336-98da4259cec3"
      },
      "execution_count": 40,
      "outputs": [
        {
          "output_type": "display_data",
          "data": {
            "text/plain": [
              "\u001b[1mModel: \"sequential_2\"\u001b[0m\n"
            ],
            "text/html": [
              "<pre style=\"white-space:pre;overflow-x:auto;line-height:normal;font-family:Menlo,'DejaVu Sans Mono',consolas,'Courier New',monospace\"><span style=\"font-weight: bold\">Model: \"sequential_2\"</span>\n",
              "</pre>\n"
            ]
          },
          "metadata": {}
        },
        {
          "output_type": "display_data",
          "data": {
            "text/plain": [
              "┏━━━━━━━━━━━━━━━━━━━━━━━━━━━━━━━━━┳━━━━━━━━━━━━━━━━━━━━━━━━┳━━━━━━━━━━━━━━━┓\n",
              "┃\u001b[1m \u001b[0m\u001b[1mLayer (type)                   \u001b[0m\u001b[1m \u001b[0m┃\u001b[1m \u001b[0m\u001b[1mOutput Shape          \u001b[0m\u001b[1m \u001b[0m┃\u001b[1m \u001b[0m\u001b[1m      Param #\u001b[0m\u001b[1m \u001b[0m┃\n",
              "┡━━━━━━━━━━━━━━━━━━━━━━━━━━━━━━━━━╇━━━━━━━━━━━━━━━━━━━━━━━━╇━━━━━━━━━━━━━━━┩\n",
              "│ embedding_2 (\u001b[38;5;33mEmbedding\u001b[0m)         │ ?                      │     \u001b[38;5;34m9,239,400\u001b[0m │\n",
              "├─────────────────────────────────┼────────────────────────┼───────────────┤\n",
              "│ gru (\u001b[38;5;33mGRU\u001b[0m)                       │ ?                      │   \u001b[38;5;34m0\u001b[0m (unbuilt) │\n",
              "├─────────────────────────────────┼────────────────────────┼───────────────┤\n",
              "│ dense_2 (\u001b[38;5;33mDense\u001b[0m)                 │ ?                      │   \u001b[38;5;34m0\u001b[0m (unbuilt) │\n",
              "└─────────────────────────────────┴────────────────────────┴───────────────┘\n"
            ],
            "text/html": [
              "<pre style=\"white-space:pre;overflow-x:auto;line-height:normal;font-family:Menlo,'DejaVu Sans Mono',consolas,'Courier New',monospace\">┏━━━━━━━━━━━━━━━━━━━━━━━━━━━━━━━━━┳━━━━━━━━━━━━━━━━━━━━━━━━┳━━━━━━━━━━━━━━━┓\n",
              "┃<span style=\"font-weight: bold\"> Layer (type)                    </span>┃<span style=\"font-weight: bold\"> Output Shape           </span>┃<span style=\"font-weight: bold\">       Param # </span>┃\n",
              "┡━━━━━━━━━━━━━━━━━━━━━━━━━━━━━━━━━╇━━━━━━━━━━━━━━━━━━━━━━━━╇━━━━━━━━━━━━━━━┩\n",
              "│ embedding_2 (<span style=\"color: #0087ff; text-decoration-color: #0087ff\">Embedding</span>)         │ ?                      │     <span style=\"color: #00af00; text-decoration-color: #00af00\">9,239,400</span> │\n",
              "├─────────────────────────────────┼────────────────────────┼───────────────┤\n",
              "│ gru (<span style=\"color: #0087ff; text-decoration-color: #0087ff\">GRU</span>)                       │ ?                      │   <span style=\"color: #00af00; text-decoration-color: #00af00\">0</span> (unbuilt) │\n",
              "├─────────────────────────────────┼────────────────────────┼───────────────┤\n",
              "│ dense_2 (<span style=\"color: #0087ff; text-decoration-color: #0087ff\">Dense</span>)                 │ ?                      │   <span style=\"color: #00af00; text-decoration-color: #00af00\">0</span> (unbuilt) │\n",
              "└─────────────────────────────────┴────────────────────────┴───────────────┘\n",
              "</pre>\n"
            ]
          },
          "metadata": {}
        },
        {
          "output_type": "display_data",
          "data": {
            "text/plain": [
              "\u001b[1m Total params: \u001b[0m\u001b[38;5;34m9,239,400\u001b[0m (35.25 MB)\n"
            ],
            "text/html": [
              "<pre style=\"white-space:pre;overflow-x:auto;line-height:normal;font-family:Menlo,'DejaVu Sans Mono',consolas,'Courier New',monospace\"><span style=\"font-weight: bold\"> Total params: </span><span style=\"color: #00af00; text-decoration-color: #00af00\">9,239,400</span> (35.25 MB)\n",
              "</pre>\n"
            ]
          },
          "metadata": {}
        },
        {
          "output_type": "display_data",
          "data": {
            "text/plain": [
              "\u001b[1m Trainable params: \u001b[0m\u001b[38;5;34m0\u001b[0m (0.00 B)\n"
            ],
            "text/html": [
              "<pre style=\"white-space:pre;overflow-x:auto;line-height:normal;font-family:Menlo,'DejaVu Sans Mono',consolas,'Courier New',monospace\"><span style=\"font-weight: bold\"> Trainable params: </span><span style=\"color: #00af00; text-decoration-color: #00af00\">0</span> (0.00 B)\n",
              "</pre>\n"
            ]
          },
          "metadata": {}
        },
        {
          "output_type": "display_data",
          "data": {
            "text/plain": [
              "\u001b[1m Non-trainable params: \u001b[0m\u001b[38;5;34m9,239,400\u001b[0m (35.25 MB)\n"
            ],
            "text/html": [
              "<pre style=\"white-space:pre;overflow-x:auto;line-height:normal;font-family:Menlo,'DejaVu Sans Mono',consolas,'Courier New',monospace\"><span style=\"font-weight: bold\"> Non-trainable params: </span><span style=\"color: #00af00; text-decoration-color: #00af00\">9,239,400</span> (35.25 MB)\n",
              "</pre>\n"
            ]
          },
          "metadata": {}
        },
        {
          "output_type": "stream",
          "name": "stdout",
          "text": [
            "None\n"
          ]
        }
      ]
    },
    {
      "cell_type": "code",
      "source": [
        "# Model Training\n",
        "gru_model_history = gru_model.fit(X_train, y_train, batch_size=128, epochs=5, verbose=1, validation_split=0.2)\n"
      ],
      "metadata": {
        "colab": {
          "base_uri": "https://localhost:8080/"
        },
        "id": "0r8had04atYw",
        "outputId": "1d77430d-101e-4981-ffc0-1be7c5a52322"
      },
      "execution_count": 41,
      "outputs": [
        {
          "output_type": "stream",
          "name": "stdout",
          "text": [
            "Epoch 1/5\n",
            "\u001b[1m250/250\u001b[0m \u001b[32m━━━━━━━━━━━━━━━━━━━━\u001b[0m\u001b[37m\u001b[0m \u001b[1m107s\u001b[0m 419ms/step - acc: 0.6505 - loss: 0.5945 - val_acc: 0.8177 - val_loss: 0.4170\n",
            "Epoch 2/5\n",
            "\u001b[1m250/250\u001b[0m \u001b[32m━━━━━━━━━━━━━━━━━━━━\u001b[0m\u001b[37m\u001b[0m \u001b[1m138s\u001b[0m 404ms/step - acc: 0.8265 - loss: 0.3882 - val_acc: 0.8539 - val_loss: 0.3400\n",
            "Epoch 3/5\n",
            "\u001b[1m250/250\u001b[0m \u001b[32m━━━━━━━━━━━━━━━━━━━━\u001b[0m\u001b[37m\u001b[0m \u001b[1m107s\u001b[0m 429ms/step - acc: 0.8481 - loss: 0.3482 - val_acc: 0.8634 - val_loss: 0.3198\n",
            "Epoch 4/5\n",
            "\u001b[1m250/250\u001b[0m \u001b[32m━━━━━━━━━━━━━━━━━━━━\u001b[0m\u001b[37m\u001b[0m \u001b[1m97s\u001b[0m 387ms/step - acc: 0.8626 - loss: 0.3205 - val_acc: 0.8683 - val_loss: 0.3111\n",
            "Epoch 5/5\n",
            "\u001b[1m250/250\u001b[0m \u001b[32m━━━━━━━━━━━━━━━━━━━━\u001b[0m\u001b[37m\u001b[0m \u001b[1m96s\u001b[0m 381ms/step - acc: 0.8785 - loss: 0.2905 - val_acc: 0.8692 - val_loss: 0.3104\n"
          ]
        }
      ]
    },
    {
      "cell_type": "code",
      "source": [
        "score = gru_model.evaluate(X_test, y_test, verbose=1)"
      ],
      "metadata": {
        "colab": {
          "base_uri": "https://localhost:8080/"
        },
        "id": "5_FMp8TXa2fn",
        "outputId": "b361a694-4e60-48f8-cd62-4b305582b45d"
      },
      "execution_count": 42,
      "outputs": [
        {
          "output_type": "stream",
          "name": "stdout",
          "text": [
            "\u001b[1m313/313\u001b[0m \u001b[32m━━━━━━━━━━━━━━━━━━━━\u001b[0m\u001b[37m\u001b[0m \u001b[1m11s\u001b[0m 34ms/step - acc: 0.8613 - loss: 0.3148\n"
          ]
        }
      ]
    },
    {
      "cell_type": "code",
      "source": [
        "# Model performance\n",
        "\n",
        "print(\"Test Score: \",score[0])\n",
        "print(\"Test Accuracy: \",score[1])"
      ],
      "metadata": {
        "colab": {
          "base_uri": "https://localhost:8080/"
        },
        "id": "G2ICAlFpa68e",
        "outputId": "73b2fb87-f396-457b-e3b4-bb9e2f6a82cf"
      },
      "execution_count": 43,
      "outputs": [
        {
          "output_type": "stream",
          "name": "stdout",
          "text": [
            "Test Score:  0.31484255194664\n",
            "Test Accuracy:  0.8636999726295471\n"
          ]
        }
      ]
    },
    {
      "cell_type": "code",
      "source": [
        "import matplotlib.pyplot as plt\n",
        "\n",
        "plt.plot(gru_model_history.history['acc'])\n",
        "plt.plot(gru_model_history.history['val_acc'])\n",
        "\n",
        "plt.title('model accuracy')\n",
        "plt.ylabel('accuracy')\n",
        "plt.xlabel('epoch')\n",
        "plt.legend(['train', 'test'], loc='upper left')\n",
        "plt.show()\n",
        "\n",
        "plt.plot(gru_model_history.history['loss'])\n",
        "plt.plot(gru_model_history.history['val_loss'])\n",
        "\n",
        "plt.title('model loss')\n",
        "plt.ylabel('loss')\n",
        "plt.xlabel('epoch')\n",
        "plt.legend(['train', 'test'], loc='upper left')\n",
        "plt.show()"
      ],
      "metadata": {
        "colab": {
          "base_uri": "https://localhost:8080/",
          "height": 927
        },
        "id": "ynBNXlmdbBIj",
        "outputId": "0b44ceb2-5ad0-41db-b03f-3ae592d25932"
      },
      "execution_count": 44,
      "outputs": [
        {
          "output_type": "display_data",
          "data": {
            "text/plain": [
              "<Figure size 640x480 with 1 Axes>"
            ],
            "image/png": "[encoded data removed]"
          },
          "metadata": {}
        },
        {
          "output_type": "display_data",
          "data": {
            "text/plain": [
              "<Figure size 640x480 with 1 Axes>"
            ],
            "image/png": "[encoded data removed]"
          },
          "metadata": {}
        }
      ]
    },
    {
      "cell_type": "markdown",
      "source": [
        "# Live Prediction"
      ],
      "metadata": {
        "id": "vi_P6zl_zW1f"
      }
    },
    {
      "cell_type": "code",
      "source": [
        "!ls"
      ],
      "metadata": {
        "id": "_USs7Z1rzewF",
        "colab": {
          "base_uri": "https://localhost:8080/"
        },
        "outputId": "b7ad8ffa-ed9d-4cce-e366-e031408381fa"
      },
      "execution_count": 45,
      "outputs": [
        {
          "output_type": "stream",
          "name": "stdout",
          "text": [
            "a1_IMDB_Dataset.csv\t    a4_LSTM_Predictions.csv\n",
            "a2_glove.6B.100d.txt\t    c1_lstm_model_acc_0.864.h5\n",
            "a3_IMDb_Unseen_Reviews.csv  Movie_review_sentiment_analysis.ipynb\n"
          ]
        }
      ]
    },
    {
      "cell_type": "code",
      "source": [
        "#load IMDb reviews for unseen data\n",
        "\n",
        "unseen_reviews_data = pd.read_csv(\"a3_IMDb_Unseen_Reviews.csv\")\n",
        "\n",
        "unseen_reviews_data.head(5)"
      ],
      "metadata": {
        "id": "u30dRlvYzi6k",
        "colab": {
          "base_uri": "https://localhost:8080/",
          "height": 206
        },
        "outputId": "6b42ad7e-9e69-4658-87c7-fc42a46d174d"
      },
      "execution_count": 46,
      "outputs": [
        {
          "output_type": "execute_result",
          "data": {
            "text/plain": [
              "   Unnamed: 0       Movie                                        Review Text  \\\n",
              "0           0  Ex Machina  Intelligent Movie.\\nThis movie is obviously al...   \n",
              "1           1  Ex Machina  Extraordinary and thought-provoking.\\n'Ex mach...   \n",
              "2           2  Ex Machina  Poor story, only reasonable otherwise.\\nIf I h...   \n",
              "3           3  Ex Machina  Had Great Potential.\\nThis movie is one of the...   \n",
              "4           4    Eternals  Amazing visuals and philosophical concepts!\\n\\...   \n",
              "\n",
              "   IMDb Rating  \n",
              "0            9  \n",
              "1           10  \n",
              "2            3  \n",
              "3            1  \n",
              "4           10  "
            ],
            "text/html": [
              "\n",
              "  <div id=\"df-8f77b60a-53b4-4a93-b024-7e0abc03852a\" class=\"colab-df-container\">\n",
              "    <div>\n",
              "<style scoped>\n",
              "    .dataframe tbody tr th:only-of-type {\n",
              "        vertical-align: middle;\n",
              "    }\n",
              "\n",
              "    .dataframe tbody tr th {\n",
              "        vertical-align: top;\n",
              "    }\n",
              "\n",
              "    .dataframe thead th {\n",
              "        text-align: right;\n",
              "    }\n",
              "</style>\n",
              "<table border=\"1\" class=\"dataframe\">\n",
              "  <thead>\n",
              "    <tr style=\"text-align: right;\">\n",
              "      <th></th>\n",
              "      <th>Unnamed: 0</th>\n",
              "      <th>Movie</th>\n",
              "      <th>Review Text</th>\n",
              "      <th>IMDb Rating</th>\n",
              "    </tr>\n",
              "  </thead>\n",
              "  <tbody>\n",
              "    <tr>\n",
              "      <th>0</th>\n",
              "      <td>0</td>\n",
              "      <td>Ex Machina</td>\n",
              "      <td>Intelligent Movie.\\nThis movie is obviously al...</td>\n",
              "      <td>9</td>\n",
              "    </tr>\n",
              "    <tr>\n",
              "      <th>1</th>\n",
              "      <td>1</td>\n",
              "      <td>Ex Machina</td>\n",
              "      <td>Extraordinary and thought-provoking.\\n'Ex mach...</td>\n",
              "      <td>10</td>\n",
              "    </tr>\n",
              "    <tr>\n",
              "      <th>2</th>\n",
              "      <td>2</td>\n",
              "      <td>Ex Machina</td>\n",
              "      <td>Poor story, only reasonable otherwise.\\nIf I h...</td>\n",
              "      <td>3</td>\n",
              "    </tr>\n",
              "    <tr>\n",
              "      <th>3</th>\n",
              "      <td>3</td>\n",
              "      <td>Ex Machina</td>\n",
              "      <td>Had Great Potential.\\nThis movie is one of the...</td>\n",
              "      <td>1</td>\n",
              "    </tr>\n",
              "    <tr>\n",
              "      <th>4</th>\n",
              "      <td>4</td>\n",
              "      <td>Eternals</td>\n",
              "      <td>Amazing visuals and philosophical concepts!\\n\\...</td>\n",
              "      <td>10</td>\n",
              "    </tr>\n",
              "  </tbody>\n",
              "</table>\n",
              "</div>\n",
              "    <div class=\"colab-df-buttons\">\n",
              "\n",
              "  <div class=\"colab-df-container\">\n",
              "    <button class=\"colab-df-convert\" onclick=\"convertToInteractive('df-8f77b60a-53b4-4a93-b024-7e0abc03852a')\"\n",
              "            title=\"Convert this dataframe to an interactive table.\"\n",
              "            style=\"display:none;\">\n",
              "\n",
              "  <svg xmlns=\"http://www.w3.org/2000/svg\" height=\"24px\" viewBox=\"0 -960 960 960\">\n",
              "    <path d=\"M120-120v-720h720v720H120Zm60-500h600v-160H180v160Zm220 220h160v-160H400v160Zm0 220h160v-160H400v160ZM180-400h160v-160H180v160Zm440 0h160v-160H620v160ZM180-180h160v-160H180v160Zm440 0h160v-160H620v160Z\"/>\n",
              "  </svg>\n",
              "    </button>\n",
              "\n",
              "  <style>\n",
              "    .colab-df-container {\n",
              "      display:flex;\n",
              "      gap: 12px;\n",
              "    }\n",
              "\n",
              "    .colab-df-convert {\n",
              "      background-color: #E8F0FE;\n",
              "      border: none;\n",
              "      border-radius: 50%;\n",
              "      cursor: pointer;\n",
              "      display: none;\n",
              "      fill: #1967D2;\n",
              "      height: 32px;\n",
              "      padding: 0 0 0 0;\n",
              "      width: 32px;\n",
              "    }\n",
              "\n",
              "    .colab-df-convert:hover {\n",
              "      background-color: #E2EBFA;\n",
              "      box-shadow: 0px 1px 2px rgba(60, 64, 67, 0.3), 0px 1px 3px 1px rgba(60, 64, 67, 0.15);\n",
              "      fill: #174EA6;\n",
              "    }\n",
              "\n",
              "    .colab-df-buttons div {\n",
              "      margin-bottom: 4px;\n",
              "    }\n",
              "\n",
              "    [theme=dark] .colab-df-convert {\n",
              "      background-color: #3B4455;\n",
              "      fill: #D2E3FC;\n",
              "    }\n",
              "\n",
              "    [theme=dark] .colab-df-convert:hover {\n",
              "      background-color: #434B5C;\n",
              "      box-shadow: 0px 1px 3px 1px rgba(0, 0, 0, 0.15);\n",
              "      filter: drop-shadow(0px 1px 2px rgba(0, 0, 0, 0.3));\n",
              "      fill: #FFFFFF;\n",
              "    }\n",
              "  </style>\n",
              "\n",
              "    <script>\n",
              "      const buttonEl =\n",
              "        document.querySelector('#df-8f77b60a-53b4-4a93-b024-7e0abc03852a button.colab-df-convert');\n",
              "      buttonEl.style.display =\n",
              "        google.colab.kernel.accessAllowed ? 'block' : 'none';\n",
              "\n",
              "      async function convertToInteractive(key) {\n",
              "        const element = document.querySelector('#df-8f77b60a-53b4-4a93-b024-7e0abc03852a');\n",
              "        const dataTable =\n",
              "          await google.colab.kernel.invokeFunction('convertToInteractive',\n",
              "                                                    [key], {});\n",
              "        if (!dataTable) return;\n",
              "\n",
              "        const docLinkHtml = 'Like what you see? Visit the ' +\n",
              "          '<a target=\"_blank\" href=https://colab.research.google.com/notebooks/data_table.ipynb>data table notebook</a>'\n",
              "          + ' to learn more about interactive tables.';\n",
              "        element.innerHTML = '';\n",
              "        dataTable['output_type'] = 'display_data';\n",
              "        await google.colab.output.renderOutput(dataTable, element);\n",
              "        const docLink = document.createElement('div');\n",
              "        docLink.innerHTML = docLinkHtml;\n",
              "        element.appendChild(docLink);\n",
              "      }\n",
              "    </script>\n",
              "  </div>\n",
              "\n",
              "\n",
              "    <div id=\"df-e1659028-a28c-4bba-96de-5381ed0e2b44\">\n",
              "      <button class=\"colab-df-quickchart\" onclick=\"quickchart('df-e1659028-a28c-4bba-96de-5381ed0e2b44')\"\n",
              "                title=\"Suggest charts\"\n",
              "                style=\"display:none;\">\n",
              "\n",
              "<svg xmlns=\"http://www.w3.org/2000/svg\" height=\"24px\"viewBox=\"0 0 24 24\"\n",
              "     width=\"24px\">\n",
              "    <g>\n",
              "        <path d=\"M19 3H5c-1.1 0-2 .9-2 2v14c0 1.1.9 2 2 2h14c1.1 0 2-.9 2-2V5c0-1.1-.9-2-2-2zM9 17H7v-7h2v7zm4 0h-2V7h2v10zm4 0h-2v-4h2v4z\"/>\n",
              "    </g>\n",
              "</svg>\n",
              "      </button>\n",
              "\n",
              "<style>\n",
              "  .colab-df-quickchart {\n",
              "      --bg-color: #E8F0FE;\n",
              "      --fill-color: #1967D2;\n",
              "      --hover-bg-color: #E2EBFA;\n",
              "      --hover-fill-color: #174EA6;\n",
              "      --disabled-fill-color: #AAA;\n",
              "      --disabled-bg-color: #DDD;\n",
              "  }\n",
              "\n",
              "  [theme=dark] .colab-df-quickchart {\n",
              "      --bg-color: #3B4455;\n",
              "      --fill-color: #D2E3FC;\n",
              "      --hover-bg-color: #434B5C;\n",
              "      --hover-fill-color: #FFFFFF;\n",
              "      --disabled-bg-color: #3B4455;\n",
              "      --disabled-fill-color: #666;\n",
              "  }\n",
              "\n",
              "  .colab-df-quickchart {\n",
              "    background-color: var(--bg-color);\n",
              "    border: none;\n",
              "    border-radius: 50%;\n",
              "    cursor: pointer;\n",
              "    display: none;\n",
              "    fill: var(--fill-color);\n",
              "    height: 32px;\n",
              "    padding: 0;\n",
              "    width: 32px;\n",
              "  }\n",
              "\n",
              "  .colab-df-quickchart:hover {\n",
              "    background-color: var(--hover-bg-color);\n",
              "    box-shadow: 0 1px 2px rgba(60, 64, 67, 0.3), 0 1px 3px 1px rgba(60, 64, 67, 0.15);\n",
              "    fill: var(--button-hover-fill-color);\n",
              "  }\n",
              "\n",
              "  .colab-df-quickchart-complete:disabled,\n",
              "  .colab-df-quickchart-complete:disabled:hover {\n",
              "    background-color: var(--disabled-bg-color);\n",
              "    fill: var(--disabled-fill-color);\n",
              "    box-shadow: none;\n",
              "  }\n",
              "\n",
              "  .colab-df-spinner {\n",
              "    border: 2px solid var(--fill-color);\n",
              "    border-color: transparent;\n",
              "    border-bottom-color: var(--fill-color);\n",
              "    animation:\n",
              "      spin 1s steps(1) infinite;\n",
              "  }\n",
              "\n",
              "  @keyframes spin {\n",
              "    0% {\n",
              "      border-color: transparent;\n",
              "      border-bottom-color: var(--fill-color);\n",
              "      border-left-color: var(--fill-color);\n",
              "    }\n",
              "    20% {\n",
              "      border-color: transparent;\n",
              "      border-left-color: var(--fill-color);\n",
              "      border-top-color: var(--fill-color);\n",
              "    }\n",
              "    30% {\n",
              "      border-color: transparent;\n",
              "      border-left-color: var(--fill-color);\n",
              "      border-top-color: var(--fill-color);\n",
              "      border-right-color: var(--fill-color);\n",
              "    }\n",
              "    40% {\n",
              "      border-color: transparent;\n",
              "      border-right-color: var(--fill-color);\n",
              "      border-top-color: var(--fill-color);\n",
              "    }\n",
              "    60% {\n",
              "      border-color: transparent;\n",
              "      border-right-color: var(--fill-color);\n",
              "    }\n",
              "    80% {\n",
              "      border-color: transparent;\n",
              "      border-right-color: var(--fill-color);\n",
              "      border-bottom-color: var(--fill-color);\n",
              "    }\n",
              "    90% {\n",
              "      border-color: transparent;\n",
              "      border-bottom-color: var(--fill-color);\n",
              "    }\n",
              "  }\n",
              "</style>\n",
              "\n",
              "      <script>\n",
              "        async function quickchart(key) {\n",
              "          const quickchartButtonEl =\n",
              "            document.querySelector('#' + key + ' button');\n",
              "          quickchartButtonEl.disabled = true;  // To prevent multiple clicks.\n",
              "          quickchartButtonEl.classList.add('colab-df-spinner');\n",
              "          try {\n",
              "            const charts = await google.colab.kernel.invokeFunction(\n",
              "                'suggestCharts', [key], {});\n",
              "          } catch (error) {\n",
              "            console.error('Error during call to suggestCharts:', error);\n",
              "          }\n",
              "          quickchartButtonEl.classList.remove('colab-df-spinner');\n",
              "          quickchartButtonEl.classList.add('colab-df-quickchart-complete');\n",
              "        }\n",
              "        (() => {\n",
              "          let quickchartButtonEl =\n",
              "            document.querySelector('#df-e1659028-a28c-4bba-96de-5381ed0e2b44 button');\n",
              "          quickchartButtonEl.style.display =\n",
              "            google.colab.kernel.accessAllowed ? 'block' : 'none';\n",
              "        })();\n",
              "      </script>\n",
              "    </div>\n",
              "\n",
              "    </div>\n",
              "  </div>\n"
            ],
            "application/vnd.google.colaboratory.intrinsic+json": {
              "type": "dataframe",
              "variable_name": "unseen_reviews_data",
              "summary": "{\n  \"name\": \"unseen_reviews_data\",\n  \"rows\": 6,\n  \"fields\": [\n    {\n      \"column\": \"Unnamed: 0\",\n      \"properties\": {\n        \"dtype\": \"number\",\n        \"std\": 1,\n        \"min\": 0,\n        \"max\": 5,\n        \"num_unique_values\": 6,\n        \"samples\": [\n          0,\n          1,\n          5\n        ],\n        \"semantic_type\": \"\",\n        \"description\": \"\"\n      }\n    },\n    {\n      \"column\": \"Movie\",\n      \"properties\": {\n        \"dtype\": \"category\",\n        \"num_unique_values\": 2,\n        \"samples\": [\n          \"Eternals\",\n          \"Ex Machina\"\n        ],\n        \"semantic_type\": \"\",\n        \"description\": \"\"\n      }\n    },\n    {\n      \"column\": \"Review Text\",\n      \"properties\": {\n        \"dtype\": \"string\",\n        \"num_unique_values\": 6,\n        \"samples\": [\n          \"Intelligent Movie.\\nThis movie is obviously allegorical, a fascinating tale about AI, but it is mainly about manipulation and power. It isn't for those wanting action or spectacular CGI, the movie is aimed at people who like to think, rather than passively wait to be entertained. There are themes here not only about AI, but also about surveillance, with excellent points about how data about us is collected by phone companies, search engine companies, commercial operating systems makers and so on. The plot seems simple but isn't, it's extremely clever, with the protagonist playing games, trying to stay one step ahead of one another. This is a movie with perfectly consistent internal logic that plays out perfectly. Don't go in expecting too much, however, as I can see most people will not be satisfied by this movie, but for me, it does what it sets out to do brilliantly. Therefore I give at least 9/10. And most recent movies have been getting 5/10 from me. This movie succeeds where another recent movie about AI, Transcendence, I think it is called, failed (but it was an interesting failure). A third movie about AI, a Spanish movie called Eva, was also brilliant. Eva was more moving and this movie more philosophical. But both movies were perfect in their different ways. The AI's name in this movie, Ava, seems to be a nod to the title of the Spanish movie. As an aside, it's nice that no \\\"stars\\\" appeared in \\\"Ex Machina\\\" and \\\"Eva\\\", the casting was great. Of course there are several aspects of this movie that are unrealistic and often absurd. But because this is an allegorical movie, these are acceptable, because the movie is making points, rather than striving for realism. It's more of a fairytale than accurate portrayal.\",\n          \"Extraordinary and thought-provoking.\\n'Ex machina' is surprisingly dense, more so than other titles Alex Garland has written, perhaps excepting only 'Annihilation.' The simple concept is given a definite narrative, but that narrative pointedly explores the very nature of thought, and perception, and further broaching the nature and ramifications of morality. This is a psychological thriller, and in fundamental construction and in minute rendering alike, it is more intense than any other feature in the genre that I can name offhand, so much so as to almost classify as horror. The movie emphasizes and plays on dire uncertainty of intent, motivation, and reality all the way through to the climax, and even then leaves us with a somewhat ambiguous ending. And from ordinary beginning to captivating ending, at every point 'Ex machina' is absolutely marvelous.\\n\\nOf any performance I've seen from Oscar Isaac, none have been nearly so forceful as his portrayal of Nathan, exhibiting outstanding nuance and sharp personality in the realization of a man exceptionally intelligent, and exceptionally cruel and conniving. I'm not especially familiar with Domhnall Gleeson, but the Irish actor demonstrates admirable range and poise readily matching the same traits that are more immediately notable in his costars. And with that said - certainly not to count out anyone else involved - Alicia Vikander is phenomenal as Ava, showing a careful exactness to every motion and expression befitting the character, and impressing with her skills in the most subtle of ways.\\n\\nI love the score composed between Ben Salisbury and Geoff Barrow, lending to the pensive unease about the film and building to a great crescendo at the precise appropriate moments. The sound design is exquisite - soft and unobtrusive, and with those qualities denoting both the meticulous craft of the feature, and the highly advanced status of Ava. So it is, too, with the special effects; to read a little bit of the production history informs of the substantial effort made to ensure every element of Nathan's creation was visualized with the utmost possibility of realism. And I think that endeavor paid off handsomely.\\n\\nThe characters as written are wonderfully complex, and the dialogue deceptively so. Garland's scene writing is impeccable and deeply engrossing, to say nothing of the overall narrative that delves into such heavy subject matter. Even being aware of the acclaim the feature had garnered since its release, I wasn't wholly sure what to expect as I sat to watch. What I got far exceeded anything I had imagined, mostly stepping away significantly from the common story ideas that populate most sci-fi films about artificial intelligence. Garland's screenplay analyzes consciousness with depth, completeness, and potency that I wouldn't have anticipated from a genre picture, and the result is so terrifically engaging as to be exhilarating. Factor in sound performances and excellent music, and 'Ex machina' is a firmly first-rate slice of science fiction that I call a must-see.\"\n        ],\n        \"semantic_type\": \"\",\n        \"description\": \"\"\n      }\n    },\n    {\n      \"column\": \"IMDb Rating\",\n      \"properties\": {\n        \"dtype\": \"number\",\n        \"std\": 4,\n        \"min\": 1,\n        \"max\": 10,\n        \"num_unique_values\": 4,\n        \"samples\": [\n          10,\n          1\n        ],\n        \"semantic_type\": \"\",\n        \"description\": \"\"\n      }\n    }\n  ]\n}"
            }
          },
          "metadata": {},
          "execution_count": 46
        }
      ]
    },
    {
      "cell_type": "code",
      "source": [
        "# Preprocessing the texts\n",
        "\n",
        "unseen_reviews = unseen_reviews_data[\"Review Text\"]\n",
        "\n",
        "unseen_processed = []\n",
        "for review in unseen_reviews:\n",
        "  unseen_processed.append(preprocess_text(review))"
      ],
      "metadata": {
        "id": "Iab-eBh70rqx"
      },
      "execution_count": 47,
      "outputs": []
    },
    {
      "cell_type": "code",
      "source": [
        "#Tokenising\n",
        "\n",
        "unseen_tokenized = word_tokenizer.texts_to_sequences(unseen_processed)\n",
        "\n",
        "# padding for equal length\n",
        "\n",
        "unseen_padded = pad_sequences(unseen_tokenized, padding='post', maxlen=maxlen)"
      ],
      "metadata": {
        "id": "0iZ5t2CV1UsJ"
      },
      "execution_count": 48,
      "outputs": []
    },
    {
      "cell_type": "code",
      "source": [
        "# passing the final instance to the LSTM model\n",
        "\n",
        "predictions = lstm_model.predict(unseen_padded)\n",
        "predictions"
      ],
      "metadata": {
        "id": "fXl-Q3ot2yzZ",
        "colab": {
          "base_uri": "https://localhost:8080/"
        },
        "outputId": "26e84d6c-785c-4df9-948d-58665cfd3660"
      },
      "execution_count": 49,
      "outputs": [
        {
          "output_type": "stream",
          "name": "stdout",
          "text": [
            "\u001b[1m1/1\u001b[0m \u001b[32m━━━━━━━━━━━━━━━━━━━━\u001b[0m\u001b[37m\u001b[0m \u001b[1m1s\u001b[0m 810ms/step\n"
          ]
        },
        {
          "output_type": "execute_result",
          "data": {
            "text/plain": [
              "array([[0.8812993 ],\n",
              "       [0.9886939 ],\n",
              "       [0.06723312],\n",
              "       [0.7331801 ],\n",
              "       [0.97427106],\n",
              "       [0.00935701]], dtype=float32)"
            ]
          },
          "metadata": {},
          "execution_count": 49
        }
      ]
    },
    {
      "cell_type": "code",
      "source": [
        "#Writing the output file\n",
        "\n",
        "unseen_reviews_data['Predicted Sentiment'] = np.round(predictions*10,1)\n",
        "\n",
        "df_prediction_sentiments = pd.DataFrame(unseen_reviews_data['Predicted Sentiment'],columns=['Predicted Sentiment'])\n",
        "df_movie = pd.DataFrame(unseen_reviews_data['Movie'],columns=['Movie'])\n",
        "df_review = pd.DataFrame(unseen_reviews_data['Review Text'],columns=['Review Text'])\n",
        "df_imdb_rating = pd.DataFrame(unseen_reviews_data['IMDb Rating'],columns=['IMDb Rating'])\n",
        "\n",
        "dfx = pd.concat([df_movie, df_review,df_imdb_rating,df_prediction_sentiments], axis=1)\n",
        "dfx.to_csv(\"a4_LSTM_Predictions.csv\",sep=',',encoding='UTF-8')\n",
        "\n",
        "dfx.head(6)"
      ],
      "metadata": {
        "id": "RXAV6Ot63BoS",
        "colab": {
          "base_uri": "https://localhost:8080/",
          "height": 237
        },
        "outputId": "183f6b8a-6921-4d82-d1bb-747414f7ebad"
      },
      "execution_count": 50,
      "outputs": [
        {
          "output_type": "execute_result",
          "data": {
            "text/plain": [
              "        Movie                                        Review Text  IMDb Rating  \\\n",
              "0  Ex Machina  Intelligent Movie.\\nThis movie is obviously al...            9   \n",
              "1  Ex Machina  Extraordinary and thought-provoking.\\n'Ex mach...           10   \n",
              "2  Ex Machina  Poor story, only reasonable otherwise.\\nIf I h...            3   \n",
              "3  Ex Machina  Had Great Potential.\\nThis movie is one of the...            1   \n",
              "4    Eternals  Amazing visuals and philosophical concepts!\\n\\...           10   \n",
              "5    Eternals  Worst MCU film ever\\n\\nFollowing the events of...            3   \n",
              "\n",
              "   Predicted Sentiment  \n",
              "0                  8.8  \n",
              "1                  9.9  \n",
              "2                  0.7  \n",
              "3                  7.3  \n",
              "4                  9.7  \n",
              "5                  0.1  "
            ],
            "text/html": [
              "\n",
              "  <div id=\"df-5335c66f-10a0-4497-a3d5-840c051f02f7\" class=\"colab-df-container\">\n",
              "    <div>\n",
              "<style scoped>\n",
              "    .dataframe tbody tr th:only-of-type {\n",
              "        vertical-align: middle;\n",
              "    }\n",
              "\n",
              "    .dataframe tbody tr th {\n",
              "        vertical-align: top;\n",
              "    }\n",
              "\n",
              "    .dataframe thead th {\n",
              "        text-align: right;\n",
              "    }\n",
              "</style>\n",
              "<table border=\"1\" class=\"dataframe\">\n",
              "  <thead>\n",
              "    <tr style=\"text-align: right;\">\n",
              "      <th></th>\n",
              "      <th>Movie</th>\n",
              "      <th>Review Text</th>\n",
              "      <th>IMDb Rating</th>\n",
              "      <th>Predicted Sentiment</th>\n",
              "    </tr>\n",
              "  </thead>\n",
              "  <tbody>\n",
              "    <tr>\n",
              "      <th>0</th>\n",
              "      <td>Ex Machina</td>\n",
              "      <td>Intelligent Movie.\\nThis movie is obviously al...</td>\n",
              "      <td>9</td>\n",
              "      <td>8.8</td>\n",
              "    </tr>\n",
              "    <tr>\n",
              "      <th>1</th>\n",
              "      <td>Ex Machina</td>\n",
              "      <td>Extraordinary and thought-provoking.\\n'Ex mach...</td>\n",
              "      <td>10</td>\n",
              "      <td>9.9</td>\n",
              "    </tr>\n",
              "    <tr>\n",
              "      <th>2</th>\n",
              "      <td>Ex Machina</td>\n",
              "      <td>Poor story, only reasonable otherwise.\\nIf I h...</td>\n",
              "      <td>3</td>\n",
              "      <td>0.7</td>\n",
              "    </tr>\n",
              "    <tr>\n",
              "      <th>3</th>\n",
              "      <td>Ex Machina</td>\n",
              "      <td>Had Great Potential.\\nThis movie is one of the...</td>\n",
              "      <td>1</td>\n",
              "      <td>7.3</td>\n",
              "    </tr>\n",
              "    <tr>\n",
              "      <th>4</th>\n",
              "      <td>Eternals</td>\n",
              "      <td>Amazing visuals and philosophical concepts!\\n\\...</td>\n",
              "      <td>10</td>\n",
              "      <td>9.7</td>\n",
              "    </tr>\n",
              "    <tr>\n",
              "      <th>5</th>\n",
              "      <td>Eternals</td>\n",
              "      <td>Worst MCU film ever\\n\\nFollowing the events of...</td>\n",
              "      <td>3</td>\n",
              "      <td>0.1</td>\n",
              "    </tr>\n",
              "  </tbody>\n",
              "</table>\n",
              "</div>\n",
              "    <div class=\"colab-df-buttons\">\n",
              "\n",
              "  <div class=\"colab-df-container\">\n",
              "    <button class=\"colab-df-convert\" onclick=\"convertToInteractive('df-5335c66f-10a0-4497-a3d5-840c051f02f7')\"\n",
              "            title=\"Convert this dataframe to an interactive table.\"\n",
              "            style=\"display:none;\">\n",
              "\n",
              "  <svg xmlns=\"http://www.w3.org/2000/svg\" height=\"24px\" viewBox=\"0 -960 960 960\">\n",
              "    <path d=\"M120-120v-720h720v720H120Zm60-500h600v-160H180v160Zm220 220h160v-160H400v160Zm0 220h160v-160H400v160ZM180-400h160v-160H180v160Zm440 0h160v-160H620v160ZM180-180h160v-160H180v160Zm440 0h160v-160H620v160Z\"/>\n",
              "  </svg>\n",
              "    </button>\n",
              "\n",
              "  <style>\n",
              "    .colab-df-container {\n",
              "      display:flex;\n",
              "      gap: 12px;\n",
              "    }\n",
              "\n",
              "    .colab-df-convert {\n",
              "      background-color: #E8F0FE;\n",
              "      border: none;\n",
              "      border-radius: 50%;\n",
              "      cursor: pointer;\n",
              "      display: none;\n",
              "      fill: #1967D2;\n",
              "      height: 32px;\n",
              "      padding: 0 0 0 0;\n",
              "      width: 32px;\n",
              "    }\n",
              "\n",
              "    .colab-df-convert:hover {\n",
              "      background-color: #E2EBFA;\n",
              "      box-shadow: 0px 1px 2px rgba(60, 64, 67, 0.3), 0px 1px 3px 1px rgba(60, 64, 67, 0.15);\n",
              "      fill: #174EA6;\n",
              "    }\n",
              "\n",
              "    .colab-df-buttons div {\n",
              "      margin-bottom: 4px;\n",
              "    }\n",
              "\n",
              "    [theme=dark] .colab-df-convert {\n",
              "      background-color: #3B4455;\n",
              "      fill: #D2E3FC;\n",
              "    }\n",
              "\n",
              "    [theme=dark] .colab-df-convert:hover {\n",
              "      background-color: #434B5C;\n",
              "      box-shadow: 0px 1px 3px 1px rgba(0, 0, 0, 0.15);\n",
              "      filter: drop-shadow(0px 1px 2px rgba(0, 0, 0, 0.3));\n",
              "      fill: #FFFFFF;\n",
              "    }\n",
              "  </style>\n",
              "\n",
              "    <script>\n",
              "      const buttonEl =\n",
              "        document.querySelector('#df-5335c66f-10a0-4497-a3d5-840c051f02f7 button.colab-df-convert');\n",
              "      buttonEl.style.display =\n",
              "        google.colab.kernel.accessAllowed ? 'block' : 'none';\n",
              "\n",
              "      async function convertToInteractive(key) {\n",
              "        const element = document.querySelector('#df-5335c66f-10a0-4497-a3d5-840c051f02f7');\n",
              "        const dataTable =\n",
              "          await google.colab.kernel.invokeFunction('convertToInteractive',\n",
              "                                                    [key], {});\n",
              "        if (!dataTable) return;\n",
              "\n",
              "        const docLinkHtml = 'Like what you see? Visit the ' +\n",
              "          '<a target=\"_blank\" href=https://colab.research.google.com/notebooks/data_table.ipynb>data table notebook</a>'\n",
              "          + ' to learn more about interactive tables.';\n",
              "        element.innerHTML = '';\n",
              "        dataTable['output_type'] = 'display_data';\n",
              "        await google.colab.output.renderOutput(dataTable, element);\n",
              "        const docLink = document.createElement('div');\n",
              "        docLink.innerHTML = docLinkHtml;\n",
              "        element.appendChild(docLink);\n",
              "      }\n",
              "    </script>\n",
              "  </div>\n",
              "\n",
              "\n",
              "    <div id=\"df-55bf39e5-2303-4116-8806-e72cd07531f2\">\n",
              "      <button class=\"colab-df-quickchart\" onclick=\"quickchart('df-55bf39e5-2303-4116-8806-e72cd07531f2')\"\n",
              "                title=\"Suggest charts\"\n",
              "                style=\"display:none;\">\n",
              "\n",
              "<svg xmlns=\"http://www.w3.org/2000/svg\" height=\"24px\"viewBox=\"0 0 24 24\"\n",
              "     width=\"24px\">\n",
              "    <g>\n",
              "        <path d=\"M19 3H5c-1.1 0-2 .9-2 2v14c0 1.1.9 2 2 2h14c1.1 0 2-.9 2-2V5c0-1.1-.9-2-2-2zM9 17H7v-7h2v7zm4 0h-2V7h2v10zm4 0h-2v-4h2v4z\"/>\n",
              "    </g>\n",
              "</svg>\n",
              "      </button>\n",
              "\n",
              "<style>\n",
              "  .colab-df-quickchart {\n",
              "      --bg-color: #E8F0FE;\n",
              "      --fill-color: #1967D2;\n",
              "      --hover-bg-color: #E2EBFA;\n",
              "      --hover-fill-color: #174EA6;\n",
              "      --disabled-fill-color: #AAA;\n",
              "      --disabled-bg-color: #DDD;\n",
              "  }\n",
              "\n",
              "  [theme=dark] .colab-df-quickchart {\n",
              "      --bg-color: #3B4455;\n",
              "      --fill-color: #D2E3FC;\n",
              "      --hover-bg-color: #434B5C;\n",
              "      --hover-fill-color: #FFFFFF;\n",
              "      --disabled-bg-color: #3B4455;\n",
              "      --disabled-fill-color: #666;\n",
              "  }\n",
              "\n",
              "  .colab-df-quickchart {\n",
              "    background-color: var(--bg-color);\n",
              "    border: none;\n",
              "    border-radius: 50%;\n",
              "    cursor: pointer;\n",
              "    display: none;\n",
              "    fill: var(--fill-color);\n",
              "    height: 32px;\n",
              "    padding: 0;\n",
              "    width: 32px;\n",
              "  }\n",
              "\n",
              "  .colab-df-quickchart:hover {\n",
              "    background-color: var(--hover-bg-color);\n",
              "    box-shadow: 0 1px 2px rgba(60, 64, 67, 0.3), 0 1px 3px 1px rgba(60, 64, 67, 0.15);\n",
              "    fill: var(--button-hover-fill-color);\n",
              "  }\n",
              "\n",
              "  .colab-df-quickchart-complete:disabled,\n",
              "  .colab-df-quickchart-complete:disabled:hover {\n",
              "    background-color: var(--disabled-bg-color);\n",
              "    fill: var(--disabled-fill-color);\n",
              "    box-shadow: none;\n",
              "  }\n",
              "\n",
              "  .colab-df-spinner {\n",
              "    border: 2px solid var(--fill-color);\n",
              "    border-color: transparent;\n",
              "    border-bottom-color: var(--fill-color);\n",
              "    animation:\n",
              "      spin 1s steps(1) infinite;\n",
              "  }\n",
              "\n",
              "  @keyframes spin {\n",
              "    0% {\n",
              "      border-color: transparent;\n",
              "      border-bottom-color: var(--fill-color);\n",
              "      border-left-color: var(--fill-color);\n",
              "    }\n",
              "    20% {\n",
              "      border-color: transparent;\n",
              "      border-left-color: var(--fill-color);\n",
              "      border-top-color: var(--fill-color);\n",
              "    }\n",
              "    30% {\n",
              "      border-color: transparent;\n",
              "      border-left-color: var(--fill-color);\n",
              "      border-top-color: var(--fill-color);\n",
              "      border-right-color: var(--fill-color);\n",
              "    }\n",
              "    40% {\n",
              "      border-color: transparent;\n",
              "      border-right-color: var(--fill-color);\n",
              "      border-top-color: var(--fill-color);\n",
              "    }\n",
              "    60% {\n",
              "      border-color: transparent;\n",
              "      border-right-color: var(--fill-color);\n",
              "    }\n",
              "    80% {\n",
              "      border-color: transparent;\n",
              "      border-right-color: var(--fill-color);\n",
              "      border-bottom-color: var(--fill-color);\n",
              "    }\n",
              "    90% {\n",
              "      border-color: transparent;\n",
              "      border-bottom-color: var(--fill-color);\n",
              "    }\n",
              "  }\n",
              "</style>\n",
              "\n",
              "      <script>\n",
              "        async function quickchart(key) {\n",
              "          const quickchartButtonEl =\n",
              "            document.querySelector('#' + key + ' button');\n",
              "          quickchartButtonEl.disabled = true;  // To prevent multiple clicks.\n",
              "          quickchartButtonEl.classList.add('colab-df-spinner');\n",
              "          try {\n",
              "            const charts = await google.colab.kernel.invokeFunction(\n",
              "                'suggestCharts', [key], {});\n",
              "          } catch (error) {\n",
              "            console.error('Error during call to suggestCharts:', error);\n",
              "          }\n",
              "          quickchartButtonEl.classList.remove('colab-df-spinner');\n",
              "          quickchartButtonEl.classList.add('colab-df-quickchart-complete');\n",
              "        }\n",
              "        (() => {\n",
              "          let quickchartButtonEl =\n",
              "            document.querySelector('#df-55bf39e5-2303-4116-8806-e72cd07531f2 button');\n",
              "          quickchartButtonEl.style.display =\n",
              "            google.colab.kernel.accessAllowed ? 'block' : 'none';\n",
              "        })();\n",
              "      </script>\n",
              "    </div>\n",
              "\n",
              "    </div>\n",
              "  </div>\n"
            ],
            "application/vnd.google.colaboratory.intrinsic+json": {
              "type": "dataframe",
              "variable_name": "dfx",
              "summary": "{\n  \"name\": \"dfx\",\n  \"rows\": 6,\n  \"fields\": [\n    {\n      \"column\": \"Movie\",\n      \"properties\": {\n        \"dtype\": \"category\",\n        \"num_unique_values\": 2,\n        \"samples\": [\n          \"Eternals\",\n          \"Ex Machina\"\n        ],\n        \"semantic_type\": \"\",\n        \"description\": \"\"\n      }\n    },\n    {\n      \"column\": \"Review Text\",\n      \"properties\": {\n        \"dtype\": \"string\",\n        \"num_unique_values\": 6,\n        \"samples\": [\n          \"Intelligent Movie.\\nThis movie is obviously allegorical, a fascinating tale about AI, but it is mainly about manipulation and power. It isn't for those wanting action or spectacular CGI, the movie is aimed at people who like to think, rather than passively wait to be entertained. There are themes here not only about AI, but also about surveillance, with excellent points about how data about us is collected by phone companies, search engine companies, commercial operating systems makers and so on. The plot seems simple but isn't, it's extremely clever, with the protagonist playing games, trying to stay one step ahead of one another. This is a movie with perfectly consistent internal logic that plays out perfectly. Don't go in expecting too much, however, as I can see most people will not be satisfied by this movie, but for me, it does what it sets out to do brilliantly. Therefore I give at least 9/10. And most recent movies have been getting 5/10 from me. This movie succeeds where another recent movie about AI, Transcendence, I think it is called, failed (but it was an interesting failure). A third movie about AI, a Spanish movie called Eva, was also brilliant. Eva was more moving and this movie more philosophical. But both movies were perfect in their different ways. The AI's name in this movie, Ava, seems to be a nod to the title of the Spanish movie. As an aside, it's nice that no \\\"stars\\\" appeared in \\\"Ex Machina\\\" and \\\"Eva\\\", the casting was great. Of course there are several aspects of this movie that are unrealistic and often absurd. But because this is an allegorical movie, these are acceptable, because the movie is making points, rather than striving for realism. It's more of a fairytale than accurate portrayal.\",\n          \"Extraordinary and thought-provoking.\\n'Ex machina' is surprisingly dense, more so than other titles Alex Garland has written, perhaps excepting only 'Annihilation.' The simple concept is given a definite narrative, but that narrative pointedly explores the very nature of thought, and perception, and further broaching the nature and ramifications of morality. This is a psychological thriller, and in fundamental construction and in minute rendering alike, it is more intense than any other feature in the genre that I can name offhand, so much so as to almost classify as horror. The movie emphasizes and plays on dire uncertainty of intent, motivation, and reality all the way through to the climax, and even then leaves us with a somewhat ambiguous ending. And from ordinary beginning to captivating ending, at every point 'Ex machina' is absolutely marvelous.\\n\\nOf any performance I've seen from Oscar Isaac, none have been nearly so forceful as his portrayal of Nathan, exhibiting outstanding nuance and sharp personality in the realization of a man exceptionally intelligent, and exceptionally cruel and conniving. I'm not especially familiar with Domhnall Gleeson, but the Irish actor demonstrates admirable range and poise readily matching the same traits that are more immediately notable in his costars. And with that said - certainly not to count out anyone else involved - Alicia Vikander is phenomenal as Ava, showing a careful exactness to every motion and expression befitting the character, and impressing with her skills in the most subtle of ways.\\n\\nI love the score composed between Ben Salisbury and Geoff Barrow, lending to the pensive unease about the film and building to a great crescendo at the precise appropriate moments. The sound design is exquisite - soft and unobtrusive, and with those qualities denoting both the meticulous craft of the feature, and the highly advanced status of Ava. So it is, too, with the special effects; to read a little bit of the production history informs of the substantial effort made to ensure every element of Nathan's creation was visualized with the utmost possibility of realism. And I think that endeavor paid off handsomely.\\n\\nThe characters as written are wonderfully complex, and the dialogue deceptively so. Garland's scene writing is impeccable and deeply engrossing, to say nothing of the overall narrative that delves into such heavy subject matter. Even being aware of the acclaim the feature had garnered since its release, I wasn't wholly sure what to expect as I sat to watch. What I got far exceeded anything I had imagined, mostly stepping away significantly from the common story ideas that populate most sci-fi films about artificial intelligence. Garland's screenplay analyzes consciousness with depth, completeness, and potency that I wouldn't have anticipated from a genre picture, and the result is so terrifically engaging as to be exhilarating. Factor in sound performances and excellent music, and 'Ex machina' is a firmly first-rate slice of science fiction that I call a must-see.\"\n        ],\n        \"semantic_type\": \"\",\n        \"description\": \"\"\n      }\n    },\n    {\n      \"column\": \"IMDb Rating\",\n      \"properties\": {\n        \"dtype\": \"number\",\n        \"std\": 4,\n        \"min\": 1,\n        \"max\": 10,\n        \"num_unique_values\": 4,\n        \"samples\": [\n          10,\n          1\n        ],\n        \"semantic_type\": \"\",\n        \"description\": \"\"\n      }\n    },\n    {\n      \"column\": \"Predicted Sentiment\",\n      \"properties\": {\n        \"dtype\": \"float32\",\n        \"num_unique_values\": 6,\n        \"samples\": [\n          8.800000190734863,\n          9.899999618530273\n        ],\n        \"semantic_type\": \"\",\n        \"description\": \"\"\n      }\n    }\n  ]\n}"
            }
          },
          "metadata": {},
          "execution_count": 50
        }
      ]
    },
    {
      "cell_type": "code",
      "source": [
        "predictions = gru_model.predict(unseen_padded)\n",
        "predictions"
      ],
      "metadata": {
        "id": "yhwvxpv548p7",
        "colab": {
          "base_uri": "https://localhost:8080/"
        },
        "outputId": "cd1ed431-2dda-48a2-8d66-2e4e670417c2"
      },
      "execution_count": 51,
      "outputs": [
        {
          "output_type": "stream",
          "name": "stdout",
          "text": [
            "\u001b[1m1/1\u001b[0m \u001b[32m━━━━━━━━━━━━━━━━━━━━\u001b[0m\u001b[37m\u001b[0m \u001b[1m0s\u001b[0m 256ms/step\n"
          ]
        },
        {
          "output_type": "execute_result",
          "data": {
            "text/plain": [
              "array([[0.8106917 ],\n",
              "       [0.9847667 ],\n",
              "       [0.08864857],\n",
              "       [0.26909792],\n",
              "       [0.89011633],\n",
              "       [0.0099435 ]], dtype=float32)"
            ]
          },
          "metadata": {},
          "execution_count": 51
        }
      ]
    },
    {
      "cell_type": "code",
      "source": [
        "#Writing the output file\n",
        "\n",
        "unseen_reviews_data['Predicted Sentiment'] = np.round(predictions*10,1)\n",
        "\n",
        "df_prediction_sentiments = pd.DataFrame(unseen_reviews_data['Predicted Sentiment'],columns=['Predicted Sentiment'])\n",
        "df_movie = pd.DataFrame(unseen_reviews_data['Movie'],columns=['Movie'])\n",
        "df_review = pd.DataFrame(unseen_reviews_data['Review Text'],columns=['Review Text'])\n",
        "df_imdb_rating = pd.DataFrame(unseen_reviews_data['IMDb Rating'],columns=['IMDb Rating'])\n",
        "\n",
        "dfx = pd.concat([df_movie, df_review,df_imdb_rating,df_prediction_sentiments], axis=1)\n",
        "dfx.to_csv(\"a4_LSTM_Predictions.csv\",sep=',',encoding='UTF-8')\n",
        "\n",
        "dfx.head(6)"
      ],
      "metadata": {
        "colab": {
          "base_uri": "https://localhost:8080/",
          "height": 237
        },
        "id": "JfShvHOfmnDJ",
        "outputId": "586616e5-1172-416e-da13-3e101efcc28c"
      },
      "execution_count": 52,
      "outputs": [
        {
          "output_type": "execute_result",
          "data": {
            "text/plain": [
              "        Movie                                        Review Text  IMDb Rating  \\\n",
              "0  Ex Machina  Intelligent Movie.\\nThis movie is obviously al...            9   \n",
              "1  Ex Machina  Extraordinary and thought-provoking.\\n'Ex mach...           10   \n",
              "2  Ex Machina  Poor story, only reasonable otherwise.\\nIf I h...            3   \n",
              "3  Ex Machina  Had Great Potential.\\nThis movie is one of the...            1   \n",
              "4    Eternals  Amazing visuals and philosophical concepts!\\n\\...           10   \n",
              "5    Eternals  Worst MCU film ever\\n\\nFollowing the events of...            3   \n",
              "\n",
              "   Predicted Sentiment  \n",
              "0                  8.1  \n",
              "1                  9.8  \n",
              "2                  0.9  \n",
              "3                  2.7  \n",
              "4                  8.9  \n",
              "5                  0.1  "
            ],
            "text/html": [
              "\n",
              "  <div id=\"df-4b4c732b-f149-414f-a492-086225256b23\" class=\"colab-df-container\">\n",
              "    <div>\n",
              "<style scoped>\n",
              "    .dataframe tbody tr th:only-of-type {\n",
              "        vertical-align: middle;\n",
              "    }\n",
              "\n",
              "    .dataframe tbody tr th {\n",
              "        vertical-align: top;\n",
              "    }\n",
              "\n",
              "    .dataframe thead th {\n",
              "        text-align: right;\n",
              "    }\n",
              "</style>\n",
              "<table border=\"1\" class=\"dataframe\">\n",
              "  <thead>\n",
              "    <tr style=\"text-align: right;\">\n",
              "      <th></th>\n",
              "      <th>Movie</th>\n",
              "      <th>Review Text</th>\n",
              "      <th>IMDb Rating</th>\n",
              "      <th>Predicted Sentiment</th>\n",
              "    </tr>\n",
              "  </thead>\n",
              "  <tbody>\n",
              "    <tr>\n",
              "      <th>0</th>\n",
              "      <td>Ex Machina</td>\n",
              "      <td>Intelligent Movie.\\nThis movie is obviously al...</td>\n",
              "      <td>9</td>\n",
              "      <td>8.1</td>\n",
              "    </tr>\n",
              "    <tr>\n",
              "      <th>1</th>\n",
              "      <td>Ex Machina</td>\n",
              "      <td>Extraordinary and thought-provoking.\\n'Ex mach...</td>\n",
              "      <td>10</td>\n",
              "      <td>9.8</td>\n",
              "    </tr>\n",
              "    <tr>\n",
              "      <th>2</th>\n",
              "      <td>Ex Machina</td>\n",
              "      <td>Poor story, only reasonable otherwise.\\nIf I h...</td>\n",
              "      <td>3</td>\n",
              "      <td>0.9</td>\n",
              "    </tr>\n",
              "    <tr>\n",
              "      <th>3</th>\n",
              "      <td>Ex Machina</td>\n",
              "      <td>Had Great Potential.\\nThis movie is one of the...</td>\n",
              "      <td>1</td>\n",
              "      <td>2.7</td>\n",
              "    </tr>\n",
              "    <tr>\n",
              "      <th>4</th>\n",
              "      <td>Eternals</td>\n",
              "      <td>Amazing visuals and philosophical concepts!\\n\\...</td>\n",
              "      <td>10</td>\n",
              "      <td>8.9</td>\n",
              "    </tr>\n",
              "    <tr>\n",
              "      <th>5</th>\n",
              "      <td>Eternals</td>\n",
              "      <td>Worst MCU film ever\\n\\nFollowing the events of...</td>\n",
              "      <td>3</td>\n",
              "      <td>0.1</td>\n",
              "    </tr>\n",
              "  </tbody>\n",
              "</table>\n",
              "</div>\n",
              "    <div class=\"colab-df-buttons\">\n",
              "\n",
              "  <div class=\"colab-df-container\">\n",
              "    <button class=\"colab-df-convert\" onclick=\"convertToInteractive('df-4b4c732b-f149-414f-a492-086225256b23')\"\n",
              "            title=\"Convert this dataframe to an interactive table.\"\n",
              "            style=\"display:none;\">\n",
              "\n",
              "  <svg xmlns=\"http://www.w3.org/2000/svg\" height=\"24px\" viewBox=\"0 -960 960 960\">\n",
              "    <path d=\"M120-120v-720h720v720H120Zm60-500h600v-160H180v160Zm220 220h160v-160H400v160Zm0 220h160v-160H400v160ZM180-400h160v-160H180v160Zm440 0h160v-160H620v160ZM180-180h160v-160H180v160Zm440 0h160v-160H620v160Z\"/>\n",
              "  </svg>\n",
              "    </button>\n",
              "\n",
              "  <style>\n",
              "    .colab-df-container {\n",
              "      display:flex;\n",
              "      gap: 12px;\n",
              "    }\n",
              "\n",
              "    .colab-df-convert {\n",
              "      background-color: #E8F0FE;\n",
              "      border: none;\n",
              "      border-radius: 50%;\n",
              "      cursor: pointer;\n",
              "      display: none;\n",
              "      fill: #1967D2;\n",
              "      height: 32px;\n",
              "      padding: 0 0 0 0;\n",
              "      width: 32px;\n",
              "    }\n",
              "\n",
              "    .colab-df-convert:hover {\n",
              "      background-color: #E2EBFA;\n",
              "      box-shadow: 0px 1px 2px rgba(60, 64, 67, 0.3), 0px 1px 3px 1px rgba(60, 64, 67, 0.15);\n",
              "      fill: #174EA6;\n",
              "    }\n",
              "\n",
              "    .colab-df-buttons div {\n",
              "      margin-bottom: 4px;\n",
              "    }\n",
              "\n",
              "    [theme=dark] .colab-df-convert {\n",
              "      background-color: #3B4455;\n",
              "      fill: #D2E3FC;\n",
              "    }\n",
              "\n",
              "    [theme=dark] .colab-df-convert:hover {\n",
              "      background-color: #434B5C;\n",
              "      box-shadow: 0px 1px 3px 1px rgba(0, 0, 0, 0.15);\n",
              "      filter: drop-shadow(0px 1px 2px rgba(0, 0, 0, 0.3));\n",
              "      fill: #FFFFFF;\n",
              "    }\n",
              "  </style>\n",
              "\n",
              "    <script>\n",
              "      const buttonEl =\n",
              "        document.querySelector('#df-4b4c732b-f149-414f-a492-086225256b23 button.colab-df-convert');\n",
              "      buttonEl.style.display =\n",
              "        google.colab.kernel.accessAllowed ? 'block' : 'none';\n",
              "\n",
              "      async function convertToInteractive(key) {\n",
              "        const element = document.querySelector('#df-4b4c732b-f149-414f-a492-086225256b23');\n",
              "        const dataTable =\n",
              "          await google.colab.kernel.invokeFunction('convertToInteractive',\n",
              "                                                    [key], {});\n",
              "        if (!dataTable) return;\n",
              "\n",
              "        const docLinkHtml = 'Like what you see? Visit the ' +\n",
              "          '<a target=\"_blank\" href=https://colab.research.google.com/notebooks/data_table.ipynb>data table notebook</a>'\n",
              "          + ' to learn more about interactive tables.';\n",
              "        element.innerHTML = '';\n",
              "        dataTable['output_type'] = 'display_data';\n",
              "        await google.colab.output.renderOutput(dataTable, element);\n",
              "        const docLink = document.createElement('div');\n",
              "        docLink.innerHTML = docLinkHtml;\n",
              "        element.appendChild(docLink);\n",
              "      }\n",
              "    </script>\n",
              "  </div>\n",
              "\n",
              "\n",
              "    <div id=\"df-96d2eb71-9779-4f4d-a106-b483d9260e0d\">\n",
              "      <button class=\"colab-df-quickchart\" onclick=\"quickchart('df-96d2eb71-9779-4f4d-a106-b483d9260e0d')\"\n",
              "                title=\"Suggest charts\"\n",
              "                style=\"display:none;\">\n",
              "\n",
              "<svg xmlns=\"http://www.w3.org/2000/svg\" height=\"24px\"viewBox=\"0 0 24 24\"\n",
              "     width=\"24px\">\n",
              "    <g>\n",
              "        <path d=\"M19 3H5c-1.1 0-2 .9-2 2v14c0 1.1.9 2 2 2h14c1.1 0 2-.9 2-2V5c0-1.1-.9-2-2-2zM9 17H7v-7h2v7zm4 0h-2V7h2v10zm4 0h-2v-4h2v4z\"/>\n",
              "    </g>\n",
              "</svg>\n",
              "      </button>\n",
              "\n",
              "<style>\n",
              "  .colab-df-quickchart {\n",
              "      --bg-color: #E8F0FE;\n",
              "      --fill-color: #1967D2;\n",
              "      --hover-bg-color: #E2EBFA;\n",
              "      --hover-fill-color: #174EA6;\n",
              "      --disabled-fill-color: #AAA;\n",
              "      --disabled-bg-color: #DDD;\n",
              "  }\n",
              "\n",
              "  [theme=dark] .colab-df-quickchart {\n",
              "      --bg-color: #3B4455;\n",
              "      --fill-color: #D2E3FC;\n",
              "      --hover-bg-color: #434B5C;\n",
              "      --hover-fill-color: #FFFFFF;\n",
              "      --disabled-bg-color: #3B4455;\n",
              "      --disabled-fill-color: #666;\n",
              "  }\n",
              "\n",
              "  .colab-df-quickchart {\n",
              "    background-color: var(--bg-color);\n",
              "    border: none;\n",
              "    border-radius: 50%;\n",
              "    cursor: pointer;\n",
              "    display: none;\n",
              "    fill: var(--fill-color);\n",
              "    height: 32px;\n",
              "    padding: 0;\n",
              "    width: 32px;\n",
              "  }\n",
              "\n",
              "  .colab-df-quickchart:hover {\n",
              "    background-color: var(--hover-bg-color);\n",
              "    box-shadow: 0 1px 2px rgba(60, 64, 67, 0.3), 0 1px 3px 1px rgba(60, 64, 67, 0.15);\n",
              "    fill: var(--button-hover-fill-color);\n",
              "  }\n",
              "\n",
              "  .colab-df-quickchart-complete:disabled,\n",
              "  .colab-df-quickchart-complete:disabled:hover {\n",
              "    background-color: var(--disabled-bg-color);\n",
              "    fill: var(--disabled-fill-color);\n",
              "    box-shadow: none;\n",
              "  }\n",
              "\n",
              "  .colab-df-spinner {\n",
              "    border: 2px solid var(--fill-color);\n",
              "    border-color: transparent;\n",
              "    border-bottom-color: var(--fill-color);\n",
              "    animation:\n",
              "      spin 1s steps(1) infinite;\n",
              "  }\n",
              "\n",
              "  @keyframes spin {\n",
              "    0% {\n",
              "      border-color: transparent;\n",
              "      border-bottom-color: var(--fill-color);\n",
              "      border-left-color: var(--fill-color);\n",
              "    }\n",
              "    20% {\n",
              "      border-color: transparent;\n",
              "      border-left-color: var(--fill-color);\n",
              "      border-top-color: var(--fill-color);\n",
              "    }\n",
              "    30% {\n",
              "      border-color: transparent;\n",
              "      border-left-color: var(--fill-color);\n",
              "      border-top-color: var(--fill-color);\n",
              "      border-right-color: var(--fill-color);\n",
              "    }\n",
              "    40% {\n",
              "      border-color: transparent;\n",
              "      border-right-color: var(--fill-color);\n",
              "      border-top-color: var(--fill-color);\n",
              "    }\n",
              "    60% {\n",
              "      border-color: transparent;\n",
              "      border-right-color: var(--fill-color);\n",
              "    }\n",
              "    80% {\n",
              "      border-color: transparent;\n",
              "      border-right-color: var(--fill-color);\n",
              "      border-bottom-color: var(--fill-color);\n",
              "    }\n",
              "    90% {\n",
              "      border-color: transparent;\n",
              "      border-bottom-color: var(--fill-color);\n",
              "    }\n",
              "  }\n",
              "</style>\n",
              "\n",
              "      <script>\n",
              "        async function quickchart(key) {\n",
              "          const quickchartButtonEl =\n",
              "            document.querySelector('#' + key + ' button');\n",
              "          quickchartButtonEl.disabled = true;  // To prevent multiple clicks.\n",
              "          quickchartButtonEl.classList.add('colab-df-spinner');\n",
              "          try {\n",
              "            const charts = await google.colab.kernel.invokeFunction(\n",
              "                'suggestCharts', [key], {});\n",
              "          } catch (error) {\n",
              "            console.error('Error during call to suggestCharts:', error);\n",
              "          }\n",
              "          quickchartButtonEl.classList.remove('colab-df-spinner');\n",
              "          quickchartButtonEl.classList.add('colab-df-quickchart-complete');\n",
              "        }\n",
              "        (() => {\n",
              "          let quickchartButtonEl =\n",
              "            document.querySelector('#df-96d2eb71-9779-4f4d-a106-b483d9260e0d button');\n",
              "          quickchartButtonEl.style.display =\n",
              "            google.colab.kernel.accessAllowed ? 'block' : 'none';\n",
              "        })();\n",
              "      </script>\n",
              "    </div>\n",
              "\n",
              "    </div>\n",
              "  </div>\n"
            ],
            "application/vnd.google.colaboratory.intrinsic+json": {
              "type": "dataframe",
              "variable_name": "dfx",
              "summary": "{\n  \"name\": \"dfx\",\n  \"rows\": 6,\n  \"fields\": [\n    {\n      \"column\": \"Movie\",\n      \"properties\": {\n        \"dtype\": \"category\",\n        \"num_unique_values\": 2,\n        \"samples\": [\n          \"Eternals\",\n          \"Ex Machina\"\n        ],\n        \"semantic_type\": \"\",\n        \"description\": \"\"\n      }\n    },\n    {\n      \"column\": \"Review Text\",\n      \"properties\": {\n        \"dtype\": \"string\",\n        \"num_unique_values\": 6,\n        \"samples\": [\n          \"Intelligent Movie.\\nThis movie is obviously allegorical, a fascinating tale about AI, but it is mainly about manipulation and power. It isn't for those wanting action or spectacular CGI, the movie is aimed at people who like to think, rather than passively wait to be entertained. There are themes here not only about AI, but also about surveillance, with excellent points about how data about us is collected by phone companies, search engine companies, commercial operating systems makers and so on. The plot seems simple but isn't, it's extremely clever, with the protagonist playing games, trying to stay one step ahead of one another. This is a movie with perfectly consistent internal logic that plays out perfectly. Don't go in expecting too much, however, as I can see most people will not be satisfied by this movie, but for me, it does what it sets out to do brilliantly. Therefore I give at least 9/10. And most recent movies have been getting 5/10 from me. This movie succeeds where another recent movie about AI, Transcendence, I think it is called, failed (but it was an interesting failure). A third movie about AI, a Spanish movie called Eva, was also brilliant. Eva was more moving and this movie more philosophical. But both movies were perfect in their different ways. The AI's name in this movie, Ava, seems to be a nod to the title of the Spanish movie. As an aside, it's nice that no \\\"stars\\\" appeared in \\\"Ex Machina\\\" and \\\"Eva\\\", the casting was great. Of course there are several aspects of this movie that are unrealistic and often absurd. But because this is an allegorical movie, these are acceptable, because the movie is making points, rather than striving for realism. It's more of a fairytale than accurate portrayal.\",\n          \"Extraordinary and thought-provoking.\\n'Ex machina' is surprisingly dense, more so than other titles Alex Garland has written, perhaps excepting only 'Annihilation.' The simple concept is given a definite narrative, but that narrative pointedly explores the very nature of thought, and perception, and further broaching the nature and ramifications of morality. This is a psychological thriller, and in fundamental construction and in minute rendering alike, it is more intense than any other feature in the genre that I can name offhand, so much so as to almost classify as horror. The movie emphasizes and plays on dire uncertainty of intent, motivation, and reality all the way through to the climax, and even then leaves us with a somewhat ambiguous ending. And from ordinary beginning to captivating ending, at every point 'Ex machina' is absolutely marvelous.\\n\\nOf any performance I've seen from Oscar Isaac, none have been nearly so forceful as his portrayal of Nathan, exhibiting outstanding nuance and sharp personality in the realization of a man exceptionally intelligent, and exceptionally cruel and conniving. I'm not especially familiar with Domhnall Gleeson, but the Irish actor demonstrates admirable range and poise readily matching the same traits that are more immediately notable in his costars. And with that said - certainly not to count out anyone else involved - Alicia Vikander is phenomenal as Ava, showing a careful exactness to every motion and expression befitting the character, and impressing with her skills in the most subtle of ways.\\n\\nI love the score composed between Ben Salisbury and Geoff Barrow, lending to the pensive unease about the film and building to a great crescendo at the precise appropriate moments. The sound design is exquisite - soft and unobtrusive, and with those qualities denoting both the meticulous craft of the feature, and the highly advanced status of Ava. So it is, too, with the special effects; to read a little bit of the production history informs of the substantial effort made to ensure every element of Nathan's creation was visualized with the utmost possibility of realism. And I think that endeavor paid off handsomely.\\n\\nThe characters as written are wonderfully complex, and the dialogue deceptively so. Garland's scene writing is impeccable and deeply engrossing, to say nothing of the overall narrative that delves into such heavy subject matter. Even being aware of the acclaim the feature had garnered since its release, I wasn't wholly sure what to expect as I sat to watch. What I got far exceeded anything I had imagined, mostly stepping away significantly from the common story ideas that populate most sci-fi films about artificial intelligence. Garland's screenplay analyzes consciousness with depth, completeness, and potency that I wouldn't have anticipated from a genre picture, and the result is so terrifically engaging as to be exhilarating. Factor in sound performances and excellent music, and 'Ex machina' is a firmly first-rate slice of science fiction that I call a must-see.\"\n        ],\n        \"semantic_type\": \"\",\n        \"description\": \"\"\n      }\n    },\n    {\n      \"column\": \"IMDb Rating\",\n      \"properties\": {\n        \"dtype\": \"number\",\n        \"std\": 4,\n        \"min\": 1,\n        \"max\": 10,\n        \"num_unique_values\": 4,\n        \"samples\": [\n          10,\n          1\n        ],\n        \"semantic_type\": \"\",\n        \"description\": \"\"\n      }\n    },\n    {\n      \"column\": \"Predicted Sentiment\",\n      \"properties\": {\n        \"dtype\": \"float32\",\n        \"num_unique_values\": 6,\n        \"samples\": [\n          8.100000381469727,\n          9.800000190734863\n        ],\n        \"semantic_type\": \"\",\n        \"description\": \"\"\n      }\n    }\n  ]\n}"
            }
          },
          "metadata": {},
          "execution_count": 52
        }
      ]
    }
  ]
}